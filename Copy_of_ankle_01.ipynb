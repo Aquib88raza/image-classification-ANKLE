{
  "nbformat": 4,
  "nbformat_minor": 0,
  "metadata": {
    "colab": {
      "provenance": [],
      "include_colab_link": true
    },
    "kernelspec": {
      "name": "python3",
      "display_name": "Python 3"
    },
    "language_info": {
      "name": "python"
    }
  },
  "cells": [
    {
      "cell_type": "markdown",
      "metadata": {
        "id": "view-in-github",
        "colab_type": "text"
      },
      "source": [
        "<a href=\"https://colab.research.google.com/github/Aquib88raza/image-classification-ANKLE/blob/main/Copy_of_ankle_01.ipynb\" target=\"_parent\"><img src=\"https://colab.research.google.com/assets/colab-badge.svg\" alt=\"Open In Colab\"/></a>"
      ]
    },
    {
      "cell_type": "code",
      "source": [
        "# Project:\n",
        "\n",
        "# Tools: Python --version\n",
        "#        Scikit-learn - deep learning python library\n",
        "\n",
        "# README:\n",
        "\n",
        "# Dataset:\n",
        "\n",
        "# Usefull infos:\n",
        "# https://journals.plos.org/plosone/article?id=10.1371/journal.pone.0265949"
      ],
      "metadata": {
        "id": "8xkMokXjnpun"
      },
      "execution_count": null,
      "outputs": []
    },
    {
      "cell_type": "code",
      "source": [
        "import os\n",
        "import random\n",
        "import numpy as np\n",
        "import cv2\n",
        "#import sklearn\n",
        "#from sklearn.datasets import load_files\n",
        "from sklearn.neighbors import KNeighborsClassifier\n",
        "from sklearn.svm import SVC\n",
        "from sklearn.naive_bayes import MultinomialNB\n",
        "from sklearn.tree import DecisionTreeClassifier\n",
        "from sklearn.ensemble import RandomForestClassifier\n",
        "from sklearn.model_selection import cross_val_score, GridSearchCV, StratifiedKFold, cross_val_predict\n",
        "from sklearn.metrics import accuracy_score, classification_report"
      ],
      "metadata": {
        "id": "_49LnzxsiGXI"
      },
      "execution_count": null,
      "outputs": []
    },
    {
      "cell_type": "code",
      "source": [
        "classifiers_names = [\n",
        "    \"KNeighborsClassifier\",\n",
        "    \"SVC\",\n",
        "    'MultinomialNB',\n",
        "    \"DecisionTreeClassifier\",\n",
        "    \"RandomForestClassifier\"\n",
        "]\n",
        "\n",
        "classifiers = [\n",
        "    KNeighborsClassifier(),\n",
        "    SVC(),\n",
        "    MultinomialNB(),\n",
        "    DecisionTreeClassifier(),\n",
        "    RandomForestClassifier()\n",
        "]\n",
        "\n",
        "parameters = [\n",
        "    {'n_neighbors': [3, 5, 7, 9, 11, 13]},  # KNeighborsClassifier\n",
        "    {'C': [1, 10, 50, 70, 100], 'gamma':['scale', 'auto'], 'kernel': ['linear', 'poly', 'rbf', 'sigmoid'], 'class_weight': [None, 'balanced']}, # SVC\n",
        "    {'alpha': [0.1, 0.5, 1.0]},  # MultinomialNB\n",
        "    {'max_depth': [None, 3, 5, 7, 10]},  # DecisionTreeClassifier\n",
        "    {'n_estimators': [50, 100, 200, 300, 500], 'warm_start': [True, False], 'n_jobs':[None, 1, 2, 3]}  # RandomForestClassifier\n",
        "]\n",
        "\n",
        "best_models = []\n",
        "acc_cross = []\n",
        "var_cross = []"
      ],
      "metadata": {
        "id": "I90HXpnOjcK_"
      },
      "execution_count": null,
      "outputs": []
    },
    {
      "cell_type": "code",
      "source": [],
      "metadata": {
        "id": "Y8IgWZ7_jyAw"
      },
      "execution_count": null,
      "outputs": []
    },
    {
      "cell_type": "markdown",
      "source": [
        "# Importing images\n"
      ],
      "metadata": {
        "id": "5RTVPUUnkDDC"
      }
    },
    {
      "cell_type": "code",
      "source": [
        "healthy_datset = []\n",
        "ill_datset = []\n",
        "dataset_images_names = []\n",
        "dataset_images = []\n",
        "dataset_labels = []\n",
        "\n",
        "# PATH to files\n",
        "normal_path = \"/content/sample_data/normal\"\n",
        "mild_path = \"/content/sample_data/mild\"\n",
        "ill_path = \"/content/sample_data/ill\""
      ],
      "metadata": {
        "id": "OxXhT45ml6ON"
      },
      "execution_count": null,
      "outputs": []
    },
    {
      "cell_type": "code",
      "source": [
        "# Reading - normal directory\n",
        "for files in os.listdir(normal_path):\n",
        "  if files.endswith(\".jpg\"):\n",
        "    files = normal_path + '/' + files\n",
        "    healthy_datset.append(files)\n",
        "    dataset_labels.append(\"0\")\n",
        "  else:\n",
        "    continue\n",
        "\n",
        "print(healthy_datset)\n",
        "print()\n",
        "print(len(healthy_datset))"
      ],
      "metadata": {
        "id": "8ZkzDtTEuXj2",
        "outputId": "273b8e3f-0678-4f33-e68b-54f5ac1819fe",
        "colab": {
          "base_uri": "https://localhost:8080/"
        }
      },
      "execution_count": null,
      "outputs": [
        {
          "output_type": "stream",
          "name": "stdout",
          "text": [
            "['/content/sample_data/normal/CCH-N-074-2-ankle-3.jpg', '/content/sample_data/normal/CCH-B-073-2-ankle-1.jpg', '/content/sample_data/normal/CCH-N-018-8-ankle-3.jpg', '/content/sample_data/normal/CCH-L-032-8-ankle-1.jpg', '/content/sample_data/normal/CCH-N-075-2-ankle-1.jpg', '/content/sample_data/normal/CCH-N-063-7-ankle-2.jpg', '/content/sample_data/normal/CCH-N-034-8-ankle-3.jpg', '/content/sample_data/normal/CCH-N-012-8-ankle-2.jpg', '/content/sample_data/normal/CCH-N-024-8-ankle-1.jpg', '/content/sample_data/normal/CCH-P-041-8-ankle-2.jpg', '/content/sample_data/normal/CCH-N-077-2-ankle-3.jpg', '/content/sample_data/normal/CCH-N-044-8- ankle-2.jpg', '/content/sample_data/normal/CCH-N-066-7- ankle-2.jpg', '/content/sample_data/normal/CCH-N-065-7-ankle-1.jpg', '/content/sample_data/normal/CCH-N-044-8- ankle-1.jpg', '/content/sample_data/normal/CCH-N-016-8-ankle-2.jpg', '/content/sample_data/normal/CCH-N-063-7-ankle-1.jpg', '/content/sample_data/normal/CCH-N-034-8-ankle-2.jpg', '/content/sample_data/normal/CCH-N023-8-ankle-3.jpg', '/content/sample_data/normal/CCH-N-077-2-ankle-2.jpg', '/content/sample_data/normal/CCH-L-032-8-ankle-3.jpg', '/content/sample_data/normal/CCH-N-016-8-ankle-1.jpg', '/content/sample_data/normal/CCH-N-027-8-ankle-1.jpg', '/content/sample_data/normal/CCH-N-012-8-ankle-4.jpg', '/content/sample_data/normal/CCH-N-074-2-ankle-1.jpg', '/content/sample_data/normal/CCH-B-073-2-ankle-2.jpg', '/content/sample_data/normal/CCH-N-029-8-ankle-1.jpg', '/content/sample_data/normal/CCH-N-044-8- ankle-3.jpg', '/content/sample_data/normal/CCH-N-066-7- ankle-1.jpg', '/content/sample_data/normal/CCH-N-054-8 ankle-4.jpg', '/content/sample_data/normal/CCH-N-026-8-ankle-2.jpg', '/content/sample_data/normal/CCH-P-041-8-ankle-1.jpg', '/content/sample_data/normal/CCH-N-065-7-ankle-2.jpg', '/content/sample_data/normal/CCH-N-027-8-ankle-2.jpg', '/content/sample_data/normal/CCH-N-033-8-ankle-2.jpg', '/content/sample_data/normal/CCH-N-033-8-ankle-4.jpg', '/content/sample_data/normal/CCH-N-004-8-ankle-1.jpg', '/content/sample_data/normal/CCH-N-026-8-ankle-1.jpg', '/content/sample_data/normal/CCH-N-065-7-ankle-3.jpg', '/content/sample_data/normal/CCH-N-018-8-ankle-2.jpg', '/content/sample_data/normal/CCH-N-033-8-ankle-1.jpg', '/content/sample_data/normal/CCH-N-029-8-ankle-2.jpg', '/content/sample_data/normal/CCH-N-024-8-ankle-2.jpg', '/content/sample_data/normal/CCH-L-032-8-ankle-2.jpg', '/content/sample_data/normal/CCH-N-054-8 ankle-1.jpg', '/content/sample_data/normal/CCH-P-035-8-ankle-2.jpg', '/content/sample_data/normal/CCH-M-014-8-ankle.jpg', '/content/sample_data/normal/CCH-N-004-8-ankle-2.jpg', '/content/sample_data/normal/CCH-N-018-8-ankle-1.jpg', '/content/sample_data/normal/CCH-N-009-8-ankle.jpg', '/content/sample_data/normal/CCH-N-026-8-ankle-4.jpg', '/content/sample_data/normal/CCH-N-027-8-ankle-3.jpg', '/content/sample_data/normal/CCH-N023-8-ankle-1.jpg', '/content/sample_data/normal/CCH-N-037-8-ankle-2.jpg', '/content/sample_data/normal/CCH-N-012-8-ankle-3.jpg', '/content/sample_data/normal/CCH-N-033-8-ankle-3.jpg', '/content/sample_data/normal/CCH-N-043-8-ankle-2.jpg', '/content/sample_data/normal/CCH-N-077-2-ankle-1.jpg', '/content/sample_data/normal/CCH-N-025-8-ankle.jpg', '/content/sample_data/normal/CCH-N-054-8 ankle-2.jpg', '/content/sample_data/normal/CCH-N-074-2-ankle-2.jpg', '/content/sample_data/normal/CCH-N-012-8-ankle-1.jpg', '/content/sample_data/normal/CCH-N-034-8-ankle-1.jpg', '/content/sample_data/normal/CCH-N023-8-ankle-2.jpg', '/content/sample_data/normal/CCH-N-075-2-ankle-2.jpg', '/content/sample_data/normal/CCH-P-035-8-ankle-1.jpg', '/content/sample_data/normal/CCH-N-037-8-ankle-1.jpg', '/content/sample_data/normal/CCH-N-077-2-ankle-4.jpg', '/content/sample_data/normal/CCH-N-043-8-ankle-1.jpg', '/content/sample_data/normal/CCH-N-026-8-ankle-3.jpg', '/content/sample_data/normal/CCH-N-054-8 ankle-3.jpg']\n",
            "\n",
            "71\n"
          ]
        }
      ]
    },
    {
      "cell_type": "code",
      "source": [
        "# Reading - mid directory\n",
        "for files in os.listdir(mild_path):\n",
        "  if files.endswith(\".jpg\"):\n",
        "    files = mild_path + '/' + files\n",
        "    ill_datset.append(files)\n",
        "    dataset_labels.append(\"1\")\n",
        "  else:\n",
        "    continue\n",
        "\n",
        "print(ill_datset)\n",
        "print()\n",
        "print(len(ill_datset))\n",
        "\n",
        "# Reading - ill directory\n",
        "for files in os.listdir(ill_path):\n",
        "  if files.endswith(\".jpg\"):\n",
        "    files = ill_path + '/' + files\n",
        "    ill_datset.append(files)\n",
        "    dataset_labels.append(\"1\")\n",
        "  else:\n",
        "    continue\n",
        "\n",
        "print(len(ill_datset))"
      ],
      "metadata": {
        "id": "1072ooVzoTFK",
        "outputId": "aea29842-0c38-492a-c42a-ec720008406d",
        "colab": {
          "base_uri": "https://localhost:8080/"
        }
      },
      "execution_count": null,
      "outputs": [
        {
          "output_type": "stream",
          "name": "stdout",
          "text": [
            "['/content/sample_data/mild/CCH-M-049-8-ankle-2.jpg', '/content/sample_data/mild/CCH-K-015-8-ankle.jpg', '/content/sample_data/mild/CCH-E-019-8-ankle-2.jpg', '/content/sample_data/mild/CCH-N-057-8-ankle-1.jpg', '/content/sample_data/mild/CCH-E-019-8-ankle-1.jpg', '/content/sample_data/mild/CCH-L-048-8-ankle-1.jpg', '/content/sample_data/mild/CCH-N-036-8-ankle-1.jpg', '/content/sample_data/mild/CCH-059-7-ankle-2.jpg', '/content/sample_data/mild/CCH-N-048-8-ankle-2.jpg', '/content/sample_data/mild/CCH-N-028-8-ankle-2.jpg', '/content/sample_data/mild/CCH-N-028-8-ankle-1.jpg', '/content/sample_data/mild/CCH-N-036-8-ankle-2.jpg', '/content/sample_data/mild/CCH-N-028-8-ankle-3.jpg', '/content/sample_data/mild/CCH-L-048-8-ankle-2.jpg', '/content/sample_data/mild/CCH-E-019-8-ankle-3.jpg', '/content/sample_data/mild/CCH-M-049-8-ankle-1.jpg', '/content/sample_data/mild/CCH-059-7-ankle-1.jpg', '/content/sample_data/mild/CCH-N-048-8-ankle-1.jpg', '/content/sample_data/mild/CCH-R-022-8-ankle-1.jpg', '/content/sample_data/mild/CCH-N-057-8-ankle-2.jpg', '/content/sample_data/mild/CCH-N-028-8-ankle-4.jpg', '/content/sample_data/mild/CCH-R-022-8-ankle-2.jpg']\n",
            "\n",
            "22\n",
            "42\n"
          ]
        }
      ]
    },
    {
      "cell_type": "code",
      "source": [
        "dataset_images_names = healthy_datset + ill_datset\n",
        "\n",
        "print(len(dataset_images_names))\n",
        "print(len(dataset_labels))"
      ],
      "metadata": {
        "id": "3w780Rn58zaZ",
        "outputId": "1e901f83-3dd2-4621-824c-ea611b75caf1",
        "colab": {
          "base_uri": "https://localhost:8080/"
        }
      },
      "execution_count": null,
      "outputs": [
        {
          "output_type": "stream",
          "name": "stdout",
          "text": [
            "113\n",
            "113\n"
          ]
        }
      ]
    },
    {
      "cell_type": "code",
      "source": [
        "#Shuffeling:\n",
        "# Combine the arrays into pairs using zip\n",
        "# Display the shuffled arrays\n",
        "# print(\"Shuffled array1:\", dataset_images)\n",
        "# print(\"Shuffled array2:\", dataset_labels)\n",
        "combined_arrays = list(zip(dataset_images_names, dataset_labels))\n",
        "\n",
        "# Shuffle the pairs\n",
        "random.shuffle(combined_arrays)\n",
        "\n",
        "# Unzip the shuffled pairs back into separate arrays\n",
        "shuffled_array1, shuffled_array2 = zip(*combined_arrays)\n",
        "\n",
        "# Convert the result back to lists if needed\n",
        "shuffled_array1 = list(shuffled_array1)\n",
        "shuffled_array2 = list(shuffled_array2)\n",
        "\n",
        "dataset_images_names = np.array(shuffled_array1)\n",
        "dataset_labels = np.array(shuffled_array2)\n",
        "\n",
        "# Display the shuffled arrays\n",
        "# print(\"Shuffled array1:\", dataset_images)\n",
        "# print(\"Shuffled array2:\", dataset_labels)\n"
      ],
      "metadata": {
        "id": "VuHFyu1s79Rd"
      },
      "execution_count": null,
      "outputs": []
    },
    {
      "cell_type": "code",
      "source": [
        "#preprocesing maybe\n",
        "for file in dataset_images_names: #enumerate(dataset_images_names):\n",
        "  image = cv2.imread(file)\n",
        "\n",
        "  if image is not None and not image.size == 0:\n",
        "      size = (256, 256)\n",
        "      image = cv2.resize(image, size, interpolation=cv2.INTER_AREA)\n",
        "      #cv2.imshow('image', image)\n",
        "      #cv2.waitKey(0)\n",
        "      dataset_images.append(image)\n",
        "  else:\n",
        "      print(f\"Error loading or resizing image: {file}\")"
      ],
      "metadata": {
        "id": "24ocYKm62PHn"
      },
      "execution_count": null,
      "outputs": []
    },
    {
      "cell_type": "code",
      "source": [
        "print(len(dataset_images))"
      ],
      "metadata": {
        "id": "Ve2nlJ3-MblT",
        "outputId": "6deacd59-b99d-42cc-f6b5-18997dd52240",
        "colab": {
          "base_uri": "https://localhost:8080/"
        }
      },
      "execution_count": null,
      "outputs": [
        {
          "output_type": "stream",
          "name": "stdout",
          "text": [
            "113\n"
          ]
        }
      ]
    },
    {
      "cell_type": "code",
      "source": [
        "# @title Models parameters"
      ],
      "metadata": {
        "id": "IT8rJ6l6nFMa"
      },
      "execution_count": null,
      "outputs": []
    },
    {
      "cell_type": "code",
      "source": [
        "\n",
        "#for i in range(len(classifiers)):\n",
        "for i in range(1):\n",
        "  model = classifiers[i]\n",
        "  model_name = classifiers_names[i]\n",
        "  param_grid = parameters[i]\n",
        "\n",
        "  # Reshape images into 2-dimensional arrays\n",
        "  num_samples = len(dataset_images)\n",
        "  image_shape = dataset_images[0].shape\n",
        "  dataset_images_reshaped = np.reshape(dataset_images, (num_samples, -1))\n",
        "\n",
        "  best_model = GridSearchCV(model, param_grid, scoring='accuracy', cv=StratifiedKFold(n_splits=8))\n",
        "\n",
        "  best_model.fit(dataset_images_reshaped, dataset_labels)\n",
        "  best_models.append(best_model)\n",
        "\n",
        "  params = best_model.get_params()\n",
        "  print(f'{model_name} -> {params}')\n",
        "  print()\n",
        "\n",
        "  cv_accuracy = cross_val_score(best_model.best_estimator_, dataset_images_reshaped, dataset_labels, scoring='accuracy', cv=StratifiedKFold(n_splits=8))\n",
        "  print(f'{model_name} - Accuracy using cross-validation: {cv_accuracy.mean()*100.0} %')\n",
        "  acc_cross.append(f'{model_name} : {cv_accuracy.mean()*100.0} %')\n",
        "  print(f'{model_name} - Variancy using cross-validation: {cv_accuracy.var()*100.0} %')\n",
        "  var_cross.append(f'{model_name} : {cv_accuracy.var()*100.0} %')"
      ],
      "metadata": {
        "id": "9CrajDMPogh3",
        "outputId": "96c40b99-0241-4bf5-f789-013be392d1b0",
        "colab": {
          "base_uri": "https://localhost:8080/"
        }
      },
      "execution_count": null,
      "outputs": [
        {
          "output_type": "stream",
          "name": "stdout",
          "text": [
            "KNeighborsClassifier -> {'cv': StratifiedKFold(n_splits=8, random_state=None, shuffle=False), 'error_score': nan, 'estimator__algorithm': 'auto', 'estimator__leaf_size': 30, 'estimator__metric': 'minkowski', 'estimator__metric_params': None, 'estimator__n_jobs': None, 'estimator__n_neighbors': 5, 'estimator__p': 2, 'estimator__weights': 'uniform', 'estimator': KNeighborsClassifier(), 'n_jobs': None, 'param_grid': {'n_neighbors': [3, 5, 7, 9, 11, 13]}, 'pre_dispatch': '2*n_jobs', 'refit': True, 'return_train_score': False, 'scoring': 'accuracy', 'verbose': 0}\n",
            "\n",
            "KNeighborsClassifier - Accuracy using cross-validation: 61.904761904761905 %\n",
            "KNeighborsClassifier - Variancy using cross-validation: 0.7794784580498867 %\n"
          ]
        }
      ]
    },
    {
      "cell_type": "code",
      "source": [
        "# @title Cross-validation\n"
      ],
      "metadata": {
        "id": "-QYmglY7om5K"
      },
      "execution_count": null,
      "outputs": []
    },
    {
      "cell_type": "code",
      "source": [],
      "metadata": {
        "id": "I9NR3cPT4omu"
      },
      "execution_count": null,
      "outputs": []
    },
    {
      "cell_type": "code",
      "source": [
        "# @title Scors and Outputs\n"
      ],
      "metadata": {
        "id": "EDClglmCpCpM"
      },
      "execution_count": null,
      "outputs": []
    },
    {
      "cell_type": "code",
      "source": [
        "# Print accuracy using cross-validation\n",
        "#cv_accuracy = cross_val_score(grid_search.best_estimator_, X_train, Y_train, scoring='accuracy', cv=StratifiedKFold(n_splits=8))\n",
        "#print(f'{names[i]} - Accuracy using cross-validation: {cv_accuracy.mean()*100.0} %')\n",
        "#acc_cross.append(f'{names[i]} : {cv_accuracy.mean()*100.0} %')\n",
        "#print(f'{names[i]} - Variancy using cross-validation: {cv_accuracy.var()*100.0} %')\n",
        "#var_cross.append(f'{names[i]} : {cv_accuracy.var()*100.0} %')"
      ],
      "metadata": {
        "id": "_JdglmdxpTFY"
      },
      "execution_count": null,
      "outputs": []
    },
    {
      "cell_type": "code",
      "source": [
        "# @title Results"
      ],
      "metadata": {
        "id": "y_1AkKBmpKod"
      },
      "execution_count": null,
      "outputs": []
    }
  ]
}