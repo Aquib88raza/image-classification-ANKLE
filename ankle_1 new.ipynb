{
  "cells": [
    {
      "cell_type": "markdown",
      "metadata": {
        "id": "view-in-github",
        "colab_type": "text"
      },
      "source": [
        "<a href=\"https://colab.research.google.com/github/Aquib88raza/image-classification-ANKLE/blob/main/ankle_1%20new.ipynb\" target=\"_parent\"><img src=\"https://colab.research.google.com/assets/colab-badge.svg\" alt=\"Open In Colab\"/></a>"
      ]
    },
    {
      "cell_type": "code",
      "execution_count": 89,
      "metadata": {
        "id": "8xkMokXjnpun"
      },
      "outputs": [],
      "source": [
        "# @title PROJECT LABEL\n",
        "\n",
        "# Project:\n",
        "\n",
        "# Tools: Python --version\n",
        "#        Scikit-learn - deep learning python library\n",
        "\n",
        "# README:\n",
        "\n",
        "# Dataset:\n",
        "\n",
        "# Usefull infos:\n",
        "# https://journals.plos.org/plosone/article?id=10.1371/journal.pone.0265949"
      ]
    },
    {
      "cell_type": "code",
      "source": [
        "# @title IMPORTS\n",
        "\n",
        "import os\n",
        "import random\n",
        "import numpy as np\n",
        "import cv2\n",
        "import matplotlib.pyplot as plt\n",
        "from sklearn.neighbors import KNeighborsClassifier\n",
        "from sklearn.svm import SVC\n",
        "from sklearn.naive_bayes import MultinomialNB\n",
        "from sklearn.tree import DecisionTreeClassifier\n",
        "from sklearn.ensemble import RandomForestClassifier\n",
        "from sklearn.model_selection import cross_val_score, GridSearchCV, StratifiedKFold, cross_val_predict\n",
        "from sklearn.metrics import accuracy_score, classification_report, confusion_matrix, ConfusionMatrixDisplay"
      ],
      "metadata": {
        "id": "vg413YhpwR0Y"
      },
      "execution_count": 90,
      "outputs": []
    },
    {
      "cell_type": "code",
      "execution_count": 91,
      "metadata": {
        "id": "I90HXpnOjcK_"
      },
      "outputs": [],
      "source": [
        "# @title DEFINITIONS\n",
        "\n",
        "classifiers_names = [\n",
        "    \"KNeighborsClassifier\",\n",
        "    \"SVC\",\n",
        "    'MultinomialNB',\n",
        "    \"DecisionTreeClassifier\",\n",
        "    \"RandomForestClassifier\"\n",
        "]\n",
        "\n",
        "classifiers = [\n",
        "    KNeighborsClassifier(),\n",
        "    SVC(),\n",
        "    MultinomialNB(),\n",
        "    DecisionTreeClassifier(),\n",
        "    RandomForestClassifier()\n",
        "]\n",
        "\n",
        "parameters = [\n",
        "    {'n_neighbors': [3, 5, 7, 9, 11, 13]},  # KNeighborsClassifier\n",
        "    {'C': [1, 10, 50, 70, 100]}, #'gamma':['scale', 'auto'], 'kernel': ['linear', 'poly', 'rbf', 'sigmoid'], 'class_weight': [None, 'balanced']}, # SVC\n",
        "    {'alpha': [0.1, 0.5, 1.0]},  # MultinomialNB\n",
        "    {'max_depth': [None, 3, 5, 7, 10]},  # DecisionTreeClassifier\n",
        "    {'n_estimators': [50, 100, 200, 300, 500]}, #'warm_start': [True, False], 'n_jobs':[None, 1, 2, 3]}  # RandomForestClassifier\n",
        "]\n",
        "\n",
        "healthy_datset = []\n",
        "ill_datset = []\n",
        "dataset_images_names = []\n",
        "dataset_images = []\n",
        "dataset_labels = []\n",
        "\n",
        "\n",
        "best_models = []\n",
        "acc_cross = []\n",
        "var_cross = []\n",
        "pred_reports = []\n",
        "pred_cross = []"
      ]
    },
    {
      "cell_type": "code",
      "source": [
        "# @title IMPORTING NAMES OF FILES FROM FOLDERS\n",
        "\n",
        "# PATH to files\n",
        "normal_path = \"/content/DATACLEANED/CLEANNORMAL\"\n",
        "mild_path = \"/content/DATACLEANED/MILD\"\n",
        "ill_path = \"/content/DATACLEANED/ILL\"\n",
        "# Reading - normal directory\n",
        "for files in os.listdir(normal_path):\n",
        "  if files.endswith(\".jpg\"):\n",
        "    files = normal_path + '/' + files\n",
        "    healthy_datset.append(files)\n",
        "    dataset_labels.append(\"0\")\n",
        "  else:\n",
        "    continue\n",
        "\n",
        "#print(healthy_datset)\n",
        "#print()\n",
        "#print(len(healthy_datset))\n",
        "# Reading - mid directory\n",
        "for files in os.listdir(mild_path):\n",
        "  if files.endswith(\".jpg\"):\n",
        "    files = mild_path + '/' + files\n",
        "    ill_datset.append(files)\n",
        "    dataset_labels.append(\"1\")\n",
        "  else:\n",
        "    continue\n",
        "\n",
        "#print(ill_datset)\n",
        "#print()\n",
        "#print(len(ill_datset))\n",
        "\n",
        "# Reading - ill directory\n",
        "for files in os.listdir(ill_path):\n",
        "  if files.endswith(\".jpg\"):\n",
        "    files = ill_path + '/' + files\n",
        "    ill_datset.append(files)\n",
        "    dataset_labels.append(\"1\")\n",
        "  else:\n",
        "    continue\n",
        "\n",
        "#print(len(ill_datset))\n",
        "# Joinning the lists of names of files from folders\n",
        "dataset_images_names = healthy_datset + ill_datset\n",
        "\n",
        "#print(len(dataset_images_names))\n",
        "#print(len(dataset_labels))\n",
        "#Shuffeling:\n",
        "# Combine the arrays into pairs using zip\n",
        "# Display the shuffled arrays\n",
        "# print(\"Shuffled array1:\", dataset_images)\n",
        "# print(\"Shuffled array2:\", dataset_labels)\n",
        "combined_arrays = list(zip(dataset_images_names, dataset_labels))\n",
        "\n",
        "# Shuffle the pairs\n",
        "random.shuffle(combined_arrays)\n",
        "\n",
        "# Unzip the shuffled pairs back into separate arrays\n",
        "shuffled_array1, shuffled_array2 = zip(*combined_arrays)\n",
        "\n",
        "# Convert the result back to lists if needed\n",
        "shuffled_array1 = list(shuffled_array1)\n",
        "shuffled_array2 = list(shuffled_array2)\n",
        "\n",
        "dataset_images_names = np.array(shuffled_array1)\n",
        "dataset_labels = np.array(shuffled_array2)\n",
        "\n",
        "# Display the shuffled arrays\n",
        "# print(\"Shuffled array1:\", dataset_images)\n",
        "# print(\"Shuffled array2:\", dataset_labels)\n"
      ],
      "metadata": {
        "id": "QtEjmlcS6Y3a"
      },
      "execution_count": 92,
      "outputs": []
    },
    {
      "cell_type": "code",
      "execution_count": 93,
      "metadata": {
        "id": "24ocYKm62PHn",
        "colab": {
          "base_uri": "https://localhost:8080/"
        },
        "outputId": "9c2f3653-1887-4a63-dca4-1eeefd267954"
      },
      "outputs": [
        {
          "output_type": "stream",
          "name": "stdout",
          "text": [
            "178\n"
          ]
        }
      ],
      "source": [
        "# @title PREPROCESING OF THE IMAGES FROM LIST OF FILES\n",
        "for file in dataset_images_names:\n",
        "  image = cv2.imread(file)\n",
        "\n",
        "  if image is not None and not image.size == 0:\n",
        "      size = (256, 256)     # defined size for resizing of the images\n",
        "      image = cv2.resize(image, size, interpolation=cv2.INTER_AREA)\n",
        "      #cv2.imshow('image', image)\n",
        "      #cv2.waitKey(0)\n",
        "      dataset_images.append(image)\n",
        "  else:\n",
        "      print(f\"Error loading or resizing image: {file}\")\n",
        "\n",
        "print(len(dataset_images))"
      ]
    },
    {
      "cell_type": "code",
      "execution_count": 94,
      "metadata": {
        "colab": {
          "base_uri": "https://localhost:8080/"
        },
        "id": "9CrajDMPogh3",
        "outputId": "368e67cb-88eb-4d0c-bc63-6fe8dbfa1527"
      },
      "outputs": [
        {
          "output_type": "stream",
          "name": "stdout",
          "text": [
            "Done with classifcation: KNeighborsClassifier\n",
            "\n"
          ]
        }
      ],
      "source": [
        "# @title GRID SEARCH AND CROSS-VALIDATION\n",
        "\n",
        "for i in range (len(classifiers)):\n",
        "  model = classifiers[i]\n",
        "  model_name = classifiers_names[i]\n",
        "  param_grid = parameters[i]\n",
        "\n",
        "  # Reshape images into 2-dimensional arrays\n",
        "  num_samples = len(dataset_images)\n",
        "  image_shape = dataset_images[0].shape\n",
        "  dataset_images_reshaped = np.reshape(dataset_images, (num_samples, -1))\n",
        "\n",
        "  # Grid Search for best parameters of models in term of accuracy\n",
        "  best_model = GridSearchCV(model, param_grid, scoring='accuracy', cv=StratifiedKFold(n_splits=8))\n",
        "\n",
        "  # Model Fitting\n",
        "  best_model.fit(dataset_images_reshaped, dataset_labels)\n",
        "  best_models.append(best_model)\n",
        "\n",
        "  # Checking the params\n",
        "  params = best_model.get_params()\n",
        "  #print(f'{model_name} -> {params}')\n",
        "\n",
        "  # SCORING\n",
        "  cv_accuracy = cross_val_score(best_model.best_estimator_, dataset_images_reshaped, dataset_labels, scoring='accuracy', cv=StratifiedKFold(n_splits=8))\n",
        "\n",
        "  # ACCURACY\n",
        "  #print(f'{model_name} - Accuracy using cross-validation: {cv_accuracy.mean()*100.0} %')\n",
        "  acc_cross.append(f'{cv_accuracy.mean()*100.0} %')\n",
        "\n",
        "  # VARIANCY\n",
        "  #print(f'{model_name} - Variancy using cross-validation: {cv_accuracy.var()*100.0} %')\n",
        "  var_cross.append(f'{cv_accuracy.var()}')\n",
        "  #print()\n",
        "\n",
        "  # PREDICTIONS\n",
        "  cv_predict = cross_val_predict(best_model.best_estimator_, dataset_images_reshaped, dataset_labels, cv=StratifiedKFold(n_splits=8))\n",
        "  classes = ['healthy', 'ill']\n",
        "  pred_reports.append(classification_report(dataset_labels, cv_predict, target_names=classes))\n",
        "  pred_cross.append(cv_predict)\n",
        "\n",
        "  print(f'Done with classifcation: {model_name}')\n",
        "\n",
        "print()\n"
      ]
    },
    {
      "cell_type": "code",
      "execution_count": 95,
      "metadata": {
        "id": "EDClglmCpCpM",
        "colab": {
          "base_uri": "https://localhost:8080/",
          "height": 729
        },
        "outputId": "8687799d-a1f3-4d3b-c395-a8157730094f"
      },
      "outputs": [
        {
          "output_type": "stream",
          "name": "stdout",
          "text": [
            "KNeighborsClassifier -> {'cv': StratifiedKFold(n_splits=8, random_state=None, shuffle=False), 'error_score': nan, 'estimator__algorithm': 'auto', 'estimator__leaf_size': 30, 'estimator__metric': 'minkowski', 'estimator__metric_params': None, 'estimator__n_jobs': None, 'estimator__n_neighbors': 5, 'estimator__p': 2, 'estimator__weights': 'uniform', 'estimator': KNeighborsClassifier(), 'n_jobs': None, 'param_grid': {'n_neighbors': [3, 5, 7, 9, 11, 13]}, 'pre_dispatch': '2*n_jobs', 'refit': True, 'return_train_score': False, 'scoring': 'accuracy', 'verbose': 0}\n",
            "Accuracy using cross-validation: 68.08300395256917 %\n",
            "Variancy using cross-validation: 0.011664375322220312\n"
          ]
        },
        {
          "output_type": "display_data",
          "data": {
            "text/plain": [
              "<Figure size 640x480 with 2 Axes>"
            ],
            "image/png": "[encoded data removed]"
          },
          "metadata": {}
        },
        {
          "output_type": "stream",
          "name": "stdout",
          "text": [
            "\n",
            "              precision    recall  f1-score   support\n",
            "\n",
            "     healthy       0.73      0.79      0.76       112\n",
            "         ill       0.58      0.50      0.54        66\n",
            "\n",
            "    accuracy                           0.68       178\n",
            "   macro avg       0.65      0.64      0.65       178\n",
            "weighted avg       0.67      0.68      0.67       178\n",
            "\n",
            "\n",
            "\n"
          ]
        }
      ],
      "source": [
        "# @title PARAMETERS, ACCURACIES, VARAINCIES, CONFUSION MATRICES, CLASSIFICATION REPORT\n",
        "\n",
        "for i in range(len(best_models)):\n",
        "  # name\n",
        "  model_name = classifiers_names[i]\n",
        "\n",
        "  # Checking the params\n",
        "  params = best_models[i].get_params()\n",
        "  print(f'{model_name} -> {params}')\n",
        "\n",
        "  # ACCURACY\n",
        "  print(f'Accuracy using cross-validation: {acc_cross[i]}')\n",
        "\n",
        "  # VARIANCY\n",
        "  print(f'Variancy using cross-validation: {var_cross[i]}')\n",
        "\n",
        "  # CONFUSION MATRICES\n",
        "  cm = confusion_matrix(dataset_labels, pred_cross[i])#, labels=[0,1])\n",
        "  disp = ConfusionMatrixDisplay(confusion_matrix=cm, display_labels=[\"healthy\",\"ill\"])\n",
        "  disp.plot()\n",
        "  plt.show()\n",
        "  print()\n",
        "\n",
        "  # CLASSIFICATION REPORT\n",
        "  print(pred_reports[i])\n",
        "\n",
        "  print()\n",
        "  print()\n",
        "\n",
        "\n"
      ]
    }
  ],
  "metadata": {
    "colab": {
      "provenance": [],
      "include_colab_link": true
    },
    "kernelspec": {
      "display_name": "Python 3",
      "name": "python3"
    },
    "language_info": {
      "name": "python"
    }
  },
  "nbformat": 4,
  "nbformat_minor": 0
}