{
  "nbformat": 4,
  "nbformat_minor": 0,
  "metadata": {
    "colab": {
      "provenance": [],
      "include_colab_link": true
    },
    "kernelspec": {
      "name": "python3",
      "display_name": "Python 3"
    },
    "language_info": {
      "name": "python"
    }
  },
  "cells": [
    {
      "cell_type": "markdown",
      "metadata": {
        "id": "view-in-github",
        "colab_type": "text"
      },
      "source": [
        "<a href=\"https://colab.research.google.com/github/Aquib88raza/image-classification-ANKLE/blob/main/cnn_for_ankle_2.ipynb\" target=\"_parent\"><img src=\"https://colab.research.google.com/assets/colab-badge.svg\" alt=\"Open In Colab\"/></a>"
      ]
    },
    {
      "cell_type": "code",
      "source": [],
      "metadata": {
        "id": "NkH_FSCZx0J4"
      },
      "execution_count": 126,
      "outputs": []
    },
    {
      "cell_type": "code",
      "execution_count": 127,
      "metadata": {
        "id": "8xkMokXjnpun"
      },
      "outputs": [],
      "source": [
        "# @title PROJECT LABEL\n",
        "\n",
        "# Project:\n",
        "\n",
        "# Tools: Python --version\n",
        "#        PyThorch - ANN library for Python\n",
        "\n",
        "# README:\n",
        "\n",
        "# Dataset:\n",
        "\n",
        "# Usefull infos:\n",
        "# https://journals.plos.org/plosone/article?id=10.1371/journal.pone.0265949"
      ]
    },
    {
      "cell_type": "code",
      "source": [
        "# @title IMPORTS\n",
        "\n",
        "import torch\n",
        "import torchvision\n",
        "import torchvision.transforms as transforms\n",
        "import torch.nn as nn\n",
        "import torch.nn.functional as F\n",
        "import torch.optim as optim\n",
        "from numpy import save\n",
        "from sklearn.metrics import confusion_matrix, ConfusionMatrixDisplay\n",
        "from sklearn.model_selection import KFold\n",
        "import matplotlib.pyplot as p\n",
        "import numpy as np\n",
        "from sklearn.metrics import accuracy_score, classification_report\n",
        "from google.colab import drive\n",
        "drive.mount('/content/drive')\n"
      ],
      "metadata": {
        "id": "vg413YhpwR0Y",
        "colab": {
          "base_uri": "https://localhost:8080/"
        },
        "outputId": "a7f20b73-fb26-41ae-c2c1-d947300f4478"
      },
      "execution_count": 128,
      "outputs": [
        {
          "output_type": "stream",
          "name": "stdout",
          "text": [
            "Drive already mounted at /content/drive; to attempt to forcibly remount, call drive.mount(\"/content/drive\", force_remount=True).\n"
          ]
        }
      ]
    },
    {
      "cell_type": "code",
      "execution_count": 129,
      "metadata": {
        "id": "I90HXpnOjcK_"
      },
      "outputs": [],
      "source": [
        "# @title DEFINITIONS\n",
        "\n",
        "# Set device to use GPU if available, otherwise use CPU\n",
        "device = torch.device(\"cuda:0\" if torch.cuda.is_available() else \"cpu\")\n",
        "\n",
        "# Define transforms for data augmentation and normalization\n",
        "transform = transforms.Compose([\n",
        "    transforms.RandomResizedCrop(224),\n",
        "    transforms.ToTensor(),\n",
        "    transforms.Normalize((0.5, 0.5, 0.5), (0.5, 0.5, 0.5))\n",
        "])\n",
        "\n",
        "# Define a series of image transforms for data augmentation and normalization.\n",
        "num_epoch = 5\n",
        "batch_size = 1\n",
        "batch_size_testing = 1\n",
        "k_folds = 8\n",
        "\n",
        "# Define the K-fold Cross Validator\n",
        "kfold = KFold(n_splits=k_folds, shuffle=True)\n",
        "results = {}\n",
        "\n",
        "\n",
        "# Classes based on images\n",
        "classes = ('healthy', 'ill')\n",
        "\n",
        "# Define the loss function and optimizer\n",
        "criterion = nn.CrossEntropyLoss()\n"
      ]
    },
    {
      "cell_type": "code",
      "source": [
        "# @title IMPORTING NAMES OF FILES FROM FOLDERS\n",
        "\n",
        "# PATH to files\n",
        "path = \"/content/drive/MyDrive/Image_classificiation/Y2022Ankle\"\n",
        "\n",
        "# Define ImageFolder datasets for training and testing sets\n",
        "dataset = torchvision.datasets.ImageFolder(root=path, transform=transform)\n",
        "dataset_loader = torch.utils.data.DataLoader(dataset, batch_size=batch_size, shuffle=True, num_workers=0)\n",
        "\n",
        "print(dataset)\n",
        "print(dataset_loader)\n",
        "\n"
      ],
      "metadata": {
        "id": "QtEjmlcS6Y3a",
        "colab": {
          "base_uri": "https://localhost:8080/"
        },
        "outputId": "ae1fb79f-e5cb-48f8-c08c-1550c22bba40"
      },
      "execution_count": 130,
      "outputs": [
        {
          "output_type": "stream",
          "name": "stdout",
          "text": [
            "Dataset ImageFolder\n",
            "    Number of datapoints: 178\n",
            "    Root location: /content/drive/MyDrive/Image_classificiation/Y2022Ankle\n",
            "    StandardTransform\n",
            "Transform: Compose(\n",
            "               RandomResizedCrop(size=(224, 224), scale=(0.08, 1.0), ratio=(0.75, 1.3333), interpolation=bilinear, antialias=warn)\n",
            "               ToTensor()\n",
            "               Normalize(mean=(0.5, 0.5, 0.5), std=(0.5, 0.5, 0.5))\n",
            "           )\n",
            "<torch.utils.data.dataloader.DataLoader object at 0x7fb103abf4c0>\n"
          ]
        }
      ]
    },
    {
      "cell_type": "code",
      "execution_count": 131,
      "metadata": {
        "id": "24ocYKm62PHn"
      },
      "outputs": [],
      "source": [
        "class Net(nn.Module):\n",
        "    def __init__(self):\n",
        "        super(Net, self).__init__()\n",
        "        self.conv1 = nn.Conv2d(3, 6, 5)         #from 224 x 224\n",
        "        self.conv2 = nn.Conv2d(6, 10, 5)\n",
        "        self.conv3 = nn.Conv2d(10, 14, 5)\n",
        "        self.conv4 = nn.Conv2d(14, 20, 5)       #to 10 x 10\n",
        "\n",
        "        self.pool = nn.MaxPool2d(2, 2)\n",
        "\n",
        "        self.fc1 = nn.Linear(20*10*10, 500)\n",
        "        self.fc2 = nn.Linear(500, 100)\n",
        "        self.fc3 = nn.Linear(100, 20)\n",
        "        self.fc4 = nn.Linear(20, 3)\n",
        "\n",
        "    def forward(self, x):\n",
        "        #print(x.shape)\n",
        "\n",
        "        #x = self.pool(F.relu(self.conv1(x)))\n",
        "        x = F.relu(self.conv1(x))\n",
        "        x = self.pool(x)\n",
        "\n",
        "        #x = self.pool(F.relu(self.conv2(x)))\n",
        "        x = F.relu(self.conv2(x))\n",
        "        x = self.pool(x)\n",
        "\n",
        "        #x = self.pool(F.relu(self.conv3(x)))\n",
        "        x = F.relu(self.conv3(x))\n",
        "        x = self.pool(x)\n",
        "\n",
        "        #x = self.pool(F.relu(self.conv4(x)))\n",
        "        x = F.relu(self.conv4(x))\n",
        "        x = self.pool(x)\n",
        "\n",
        "        #x = torch.flatten(x, 1) # flatten all dimensions except batch\n",
        "        x = x.view(-1, 20*10*10)\n",
        "\n",
        "        x = F.relu(self.fc1(x))\n",
        "        x = F.relu(self.fc2(x))\n",
        "        x = F.relu(self.fc3(x))\n",
        "        x = self.fc4(x)\n",
        "        return x\n"
      ]
    },
    {
      "cell_type": "markdown",
      "source": [],
      "metadata": {
        "id": "4QVBxq6s1OPj"
      }
    },
    {
      "cell_type": "code",
      "source": [
        "# @title train_and_evaluate_model\n",
        "\n",
        "def train_and_evaluate_model(net, train_loader, val_loader, criterion, optimizer, device):\n",
        "    net.to(device)\n",
        "    net.train()\n",
        "\n",
        "    for epoch in range(num_epoch):\n",
        "        running_loss = 0.0\n",
        "        for i, data in enumerate(train_loader, 0):\n",
        "            inputs, labels = data[0].to(device), data[1].to(device)\n",
        "\n",
        "            optimizer.zero_grad()\n",
        "            outputs = net(inputs)\n",
        "            loss = criterion(outputs, labels)\n",
        "            loss.backward()\n",
        "            optimizer.step()\n",
        "\n",
        "            running_loss += loss.item()\n",
        "\n",
        "        # Calculate and print the average loss for this epoch\n",
        "        print(f\"Epoch {epoch + 1}, Loss: {running_loss / len(train_loader)}\")\n",
        "\n",
        "    net.eval()\n",
        "    val_predictions, val_labels = [], []\n",
        "    with torch.no_grad():\n",
        "        for data in val_loader:\n",
        "            inputs, labels = data[0].to(device), data[1].to(device)\n",
        "            outputs = net(inputs)\n",
        "            _, predicted = torch.max(outputs, 1)\n",
        "\n",
        "            val_predictions.extend(predicted.cpu().numpy())\n",
        "            val_labels.extend(labels.cpu().numpy())\n",
        "\n",
        "    val_accuracy = accuracy_score(val_labels, val_predictions)\n",
        "    return val_accuracy\n"
      ],
      "metadata": {
        "id": "RIN67gGH51px"
      },
      "execution_count": 132,
      "outputs": []
    },
    {
      "cell_type": "code",
      "execution_count": 133,
      "metadata": {
        "id": "9CrajDMPogh3",
        "colab": {
          "base_uri": "https://localhost:8080/",
          "height": 1000
        },
        "outputId": "330e48cf-7b09-47e5-fc8c-1d04bd525c5d"
      },
      "outputs": [
        {
          "output_type": "stream",
          "name": "stdout",
          "text": [
            "Fold 1\n",
            "<torch.utils.data.sampler.SubsetRandomSampler object at 0x7fb1092fca60>\n",
            "<torch.utils.data.sampler.SubsetRandomSampler object at 0x7fb1092fc190>\n",
            "<torch.utils.data.dataloader.DataLoader object at 0x7fb1092fc820>\n",
            "<torch.utils.data.dataloader.DataLoader object at 0x7fb1092fd210>\n",
            "Epoch 1, Loss: 0.9369970771574205\n",
            "Epoch 2, Loss: 0.828978717711664\n",
            "Epoch 3, Loss: 0.7745615924558332\n",
            "Epoch 4, Loss: 0.7454001080605291\n",
            "Epoch 5, Loss: 0.7282225635743911\n",
            "[[15  0]\n",
            " [ 8  0]]\n",
            "Fold 2\n",
            "<torch.utils.data.sampler.SubsetRandomSampler object at 0x7fb103a86710>\n",
            "<torch.utils.data.sampler.SubsetRandomSampler object at 0x7fb109c97250>\n",
            "<torch.utils.data.dataloader.DataLoader object at 0x7fb1092fcaf0>\n",
            "<torch.utils.data.dataloader.DataLoader object at 0x7fb1092ff460>\n",
            "Epoch 1, Loss: 0.9968496114976945\n",
            "Epoch 2, Loss: 0.8486892207976311\n",
            "Epoch 3, Loss: 0.7825687354610812\n",
            "Epoch 4, Loss: 0.7451360940933227\n",
            "Epoch 5, Loss: 0.7220981184513339\n",
            "[[13  0]\n",
            " [10  0]]\n",
            "Fold 3\n",
            "<torch.utils.data.sampler.SubsetRandomSampler object at 0x7fb1092fcb20>\n",
            "<torch.utils.data.sampler.SubsetRandomSampler object at 0x7fb1092fcac0>\n",
            "<torch.utils.data.dataloader.DataLoader object at 0x7fb1092fcee0>\n",
            "<torch.utils.data.dataloader.DataLoader object at 0x7fb1092febf0>\n",
            "Epoch 1, Loss: 1.0050880977740655\n",
            "Epoch 2, Loss: 0.8252579084573648\n",
            "Epoch 3, Loss: 0.7549708655629402\n",
            "Epoch 4, Loss: 0.7185702236034931\n",
            "Epoch 5, Loss: 0.69852697963898\n",
            "[[11  0]\n",
            " [11  0]]\n",
            "Fold 4\n",
            "<torch.utils.data.sampler.SubsetRandomSampler object at 0x7fb1092fc220>\n",
            "<torch.utils.data.sampler.SubsetRandomSampler object at 0x7fb1092ff460>\n",
            "<torch.utils.data.dataloader.DataLoader object at 0x7fb1092fd7b0>\n",
            "<torch.utils.data.dataloader.DataLoader object at 0x7fb1092fc610>\n",
            "Epoch 1, Loss: 1.0067626448013844\n",
            "Epoch 2, Loss: 0.8334238907465568\n",
            "Epoch 3, Loss: 0.765885054300993\n",
            "Epoch 4, Loss: 0.731975818100648\n",
            "Epoch 5, Loss: 0.7126445105442634\n",
            "[[11  0]\n",
            " [11  0]]\n",
            "Fold 5\n",
            "<torch.utils.data.sampler.SubsetRandomSampler object at 0x7fb109c944f0>\n",
            "<torch.utils.data.sampler.SubsetRandomSampler object at 0x7fb109c974f0>\n",
            "<torch.utils.data.dataloader.DataLoader object at 0x7fb1092fcb20>\n",
            "<torch.utils.data.dataloader.DataLoader object at 0x7fb1092fca60>\n",
            "Epoch 1, Loss: 1.0868709767476106\n",
            "Epoch 2, Loss: 0.8937212866850388\n",
            "Epoch 3, Loss: 0.8154796973252908\n",
            "Epoch 4, Loss: 0.773808519809674\n",
            "Epoch 5, Loss: 0.7473501757933543\n",
            "[[17  0]\n",
            " [ 5  0]]\n",
            "Fold 6\n",
            "<torch.utils.data.sampler.SubsetRandomSampler object at 0x7fb1092fffa0>\n",
            "<torch.utils.data.sampler.SubsetRandomSampler object at 0x7fb1092fd660>\n",
            "<torch.utils.data.dataloader.DataLoader object at 0x7fb1092fc610>\n",
            "<torch.utils.data.dataloader.DataLoader object at 0x7fb1092fd7b0>\n",
            "Epoch 1, Loss: 0.9874600301950406\n",
            "Epoch 2, Loss: 0.8385905535557331\n",
            "Epoch 3, Loss: 0.7816954205433527\n",
            "Epoch 4, Loss: 0.7448243930553778\n",
            "Epoch 5, Loss: 0.7245646367470423\n",
            "[[16  0]\n",
            " [ 6  0]]\n",
            "Fold 7\n",
            "<torch.utils.data.sampler.SubsetRandomSampler object at 0x7fb103a86710>\n",
            "<torch.utils.data.sampler.SubsetRandomSampler object at 0x7fb109c97250>\n",
            "<torch.utils.data.dataloader.DataLoader object at 0x7fb1092fcb20>\n",
            "<torch.utils.data.dataloader.DataLoader object at 0x7fb1092fc310>\n",
            "Epoch 1, Loss: 1.02911772330602\n",
            "Epoch 2, Loss: 0.8702359539576066\n",
            "Epoch 3, Loss: 0.8014485155924772\n",
            "Epoch 4, Loss: 0.7634012217705066\n",
            "Epoch 5, Loss: 0.7405506322781245\n",
            "[[17  0]\n",
            " [ 5  0]]\n",
            "Fold 8\n",
            "<torch.utils.data.sampler.SubsetRandomSampler object at 0x7fb1092fc790>\n",
            "<torch.utils.data.sampler.SubsetRandomSampler object at 0x7fb1092fc220>\n",
            "<torch.utils.data.dataloader.DataLoader object at 0x7fb1092fd090>\n",
            "<torch.utils.data.dataloader.DataLoader object at 0x7fb1092fd630>\n",
            "Epoch 1, Loss: 1.0051534989705453\n",
            "Epoch 2, Loss: 0.8218479026586581\n",
            "Epoch 3, Loss: 0.7479069594007272\n",
            "Epoch 4, Loss: 0.7049973763716526\n",
            "Epoch 5, Loss: 0.6773692940672239\n",
            "[[12  0]\n",
            " [10  0]]\n",
            "Confusion Matrix:\n",
            "[[12  0]\n",
            " [10  0]]\n"
          ]
        },
        {
          "output_type": "display_data",
          "data": {
            "text/plain": [
              "<Figure size 640x480 with 2 Axes>"
            ],
            "image/png": "[encoded data removed]"
          },
          "metadata": {}
        },
        {
          "output_type": "stream",
          "name": "stdout",
          "text": [
            "\n",
            "Classification Report:\n",
            "              precision    recall  f1-score   support\n",
            "\n",
            "     healthy       0.55      1.00      0.71        12\n",
            "         ill       0.00      0.00      0.00        10\n",
            "\n",
            "    accuracy                           0.55        22\n",
            "   macro avg       0.27      0.50      0.35        22\n",
            "weighted avg       0.30      0.55      0.39        22\n",
            "\n",
            "--------------------\n",
            "Mean Accuracy: 0.6294466403162056\n",
            "Variance of Accuracy: 0.011979760658657378\n"
          ]
        }
      ],
      "source": [
        "# @title CNN IN USEAGE\n",
        "\n",
        "# Loop over each fold and train the model\n",
        "for fold, (train_idx, val_idx) in enumerate(kfold.split(dataset)):\n",
        "    print(f\"Fold {fold+1}\")\n",
        "    train_sampler = torch.utils.data.SubsetRandomSampler(train_idx)\n",
        "    val_sampler = torch.utils.data.SubsetRandomSampler(val_idx)\n",
        "    print(train_sampler)\n",
        "    print(val_sampler)\n",
        "\n",
        "    train_loader = torch.utils.data.DataLoader(dataset, batch_size=batch_size, sampler=train_sampler, num_workers=0)\n",
        "    val_loader = torch.utils.data.DataLoader(dataset, batch_size=batch_size_testing, sampler=val_sampler, num_workers=0)\n",
        "    print(train_loader)\n",
        "    print(val_loader)\n",
        "\n",
        "    net = Net()\n",
        "    optimizer = optim.SGD(net.parameters(), lr=0.001, momentum=0.9)\n",
        "\n",
        "    # Train and evaluate the model\n",
        "    val_accuracy = train_and_evaluate_model(net, train_loader, val_loader, criterion, optimizer, device)\n",
        "\n",
        "    # Save the results for this fold\n",
        "    results[fold + 1] = val_accuracy\n",
        "\n",
        "    # Calculate and print the confusion matrix and classification report for this fold\n",
        "    val_predictions, val_labels = [], []\n",
        "    with torch.no_grad():\n",
        "        for data in val_loader:\n",
        "            inputs, labels = data[0].to(device), data[1].to(device)\n",
        "            outputs = net(inputs)\n",
        "            _, predicted = torch.max(outputs, 1)\n",
        "\n",
        "            val_predictions.extend(predicted.cpu().numpy())\n",
        "            val_labels.extend(labels.cpu().numpy())\n",
        "\n",
        "    cm = confusion_matrix(val_labels, val_predictions)\n",
        "    print(cm)\n",
        "    c_r = classification_report(val_labels, val_predictions, target_names=classes, zero_division=0)\n",
        "\n",
        "print(\"Confusion Matrix:\")\n",
        "print(cm)\n",
        "disp = ConfusionMatrixDisplay(confusion_matrix=cm, display_labels=[\"healthy\",\"ill\"])\n",
        "disp.plot()\n",
        "p.show()\n",
        "print()\n",
        "\n",
        "print(\"Classification Report:\")\n",
        "print(c_r)\n",
        "print(\"--------------------\")\n",
        "\n",
        "# Calculate and print the mean accuracy and variance of all folds\n",
        "accuracies = np.array(list(results.values()))\n",
        "print(\"Mean Accuracy:\", np.mean(accuracies))\n",
        "print(\"Variance of Accuracy:\", np.var(accuracies))\n",
        "\n",
        "\n"
      ]
    }
  ]
}