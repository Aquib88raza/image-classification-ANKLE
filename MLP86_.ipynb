{
  "nbformat": 4,
  "nbformat_minor": 0,
  "metadata": {
    "colab": {
      "provenance": [],
      "mount_file_id": "1t2AhC7hqbCbXilM9r4AxVDiAKIwjXV4y",
      "authorship_tag": "ABX9TyNEa+oVqvq7GejwF++ooI86",
      "include_colab_link": true
    },
    "kernelspec": {
      "name": "python3",
      "display_name": "Python 3"
    },
    "language_info": {
      "name": "python"
    }
  },
  "cells": [
    {
      "cell_type": "markdown",
      "metadata": {
        "id": "view-in-github",
        "colab_type": "text"
      },
      "source": [
        "<a href=\"https://colab.research.google.com/github/Aquib88raza/image-classification-ANKLE/blob/main/MLP86_.ipynb\" target=\"_parent\"><img src=\"https://colab.research.google.com/assets/colab-badge.svg\" alt=\"Open In Colab\"/></a>"
      ]
    },
    {
      "cell_type": "code",
      "execution_count": null,
      "metadata": {
        "id": "3n-MKyrVThxY"
      },
      "outputs": [],
      "source": [
        "import os\n",
        "import random\n",
        "import numpy as np\n",
        "import cv2\n",
        "from sklearn.neural_network import MLPClassifier\n",
        "from sklearn.model_selection import train_test_split\n",
        "from sklearn.metrics import classification_report\n",
        "from sklearn.model_selection import cross_val_score, GridSearchCV, StratifiedKFold, cross_val_predict\n",
        "import matplotlib.pyplot as plt\n",
        "from sklearn.model_selection import learning_curve\n",
        "from sklearn.metrics import confusion_matrix\n"
      ]
    },
    {
      "cell_type": "code",
      "source": [
        "#Define the path to your image directories\n",
        "normal_path = \"/content/drive/MyDrive/Y2022Ankle (2)/healthy\"\n",
        "ill_path = \"/content/drive/MyDrive/Y2022Ankle (2)/ill (1)\"\n",
        "\n",
        "# Create lists to store image data and labels\n",
        "dataset_images = []\n",
        "dataset_labels = []\n",
        "\n",
        "# Reading - normal directory\n",
        "for files in os.listdir(normal_path):\n",
        "    if files.endswith(\".jpg\"):\n",
        "        file_path = os.path.join(normal_path, files)\n",
        "        image = cv2.imread(file_path)\n",
        "        if image is not None and not image.size == 0:\n",
        "            size = (256, 256)  # defined size for resizing of the images\n",
        "            image = cv2.resize(image, size, interpolation=cv2.INTER_AREA)\n",
        "            dataset_images.append(image.flatten())  # Flatten the image\n",
        "            dataset_labels.append(0)  # Label for healthy images\n",
        "\n",
        "# Reading - ill directory\n",
        "for files in os.listdir(ill_path):\n",
        "    if files.endswith(\".jpg\"):\n",
        "        file_path = os.path.join(ill_path, files)\n",
        "        image = cv2.imread(file_path)\n",
        "        if image is not None and not image.size == 0:\n",
        "            size = (256, 256)  # defined size for resizing of the images\n",
        "            image = cv2.resize(image, size, interpolation=cv2.INTER_AREA)\n",
        "            dataset_images.append(image.flatten())  # Flatten the image\n",
        "            dataset_labels.append(1)  # Label for ill images\n",
        "\n",
        "# Convert the lists to NumPy arrays\n",
        "dataset_images = np.array(dataset_images)\n",
        "dataset_labels = np.array(dataset_labels)\n",
        "# Reshape images into 2-dimensional arrays\n",
        "num_samples = len(dataset_images)\n",
        "image_shape = dataset_images[0].shape\n",
        "dataset_images_reshaped = np.reshape(dataset_images, (num_samples, -1))\n",
        "\n",
        "# Normalize pixel values if needed (for MLPClassifier)\n",
        "dataset_images_reshaped = dataset_images_reshaped / 255.0  # Normalize to the range [0, 1]\n",
        "# Split the dataset into training and testing sets (e.g., 90% train, 5% test)\n",
        "X_train, X_test, y_train, y_test = train_test_split(dataset_images, dataset_labels, test_size=0.05, random_state=42)\n",
        "\n",
        "# Create and train the MLPClassifier\n",
        "mlp_classifier = MLPClassifier(\n",
        "    hidden_layer_sizes=(100, 100),  # Add an additional hidden layer\n",
        "    activation='relu',\n",
        "    solver='adam',\n",
        "    max_iter=5000\n",
        ")\n",
        "\n",
        "mlp_classifier.fit(X_train, y_train)\n",
        "\n",
        "\n",
        "print(len(dataset_images))"
      ],
      "metadata": {
        "colab": {
          "base_uri": "https://localhost:8080/"
        },
        "id": "IX8AyAnPTlfi",
        "outputId": "841820e6-4585-414b-b638-6051f26abaec"
      },
      "execution_count": null,
      "outputs": [
        {
          "output_type": "stream",
          "name": "stdout",
          "text": [
            "132\n"
          ]
        }
      ]
    },
    {
      "cell_type": "code",
      "source": [
        "y_pred = mlp_classifier.predict(X_test)\n",
        "\n",
        "# Evaluate the model\n",
        "report = classification_report(y_test, y_pred)\n",
        "print(\"Classification Report:\\n\", report)"
      ],
      "metadata": {
        "colab": {
          "base_uri": "https://localhost:8080/"
        },
        "id": "TFsoDtfTT6RE",
        "outputId": "bf0b1e67-fe12-4872-fe6b-57bc6ab4d626"
      },
      "execution_count": null,
      "outputs": [
        {
          "output_type": "stream",
          "name": "stdout",
          "text": [
            "Classification Report:\n",
            "               precision    recall  f1-score   support\n",
            "\n",
            "           0       0.80      1.00      0.89         4\n",
            "           1       1.00      0.67      0.80         3\n",
            "\n",
            "    accuracy                           0.86         7\n",
            "   macro avg       0.90      0.83      0.84         7\n",
            "weighted avg       0.89      0.86      0.85         7\n",
            "\n"
          ]
        }
      ]
    },
    {
      "cell_type": "code",
      "source": [
        "# Make predictions on both train and test sets\n",
        "y_train_pred = mlp_classifier.predict(X_train)\n",
        "y_test_pred = mlp_classifier.predict(X_test)\n",
        "\n",
        "# Evaluate the model on both train and test sets\n",
        "train_report = classification_report(y_train, y_train_pred)\n",
        "test_report = classification_report(y_test, y_test_pred)\n",
        "\n",
        "print(\"Classification Report (Train):\\n\", train_report)\n",
        "print(\"Classification Report (Test):\\n\", test_report)\n"
      ],
      "metadata": {
        "colab": {
          "base_uri": "https://localhost:8080/"
        },
        "id": "V2nlR9_DT9KO",
        "outputId": "dc509e5d-a993-45fb-ab80-6f6c51aa8ab9"
      },
      "execution_count": null,
      "outputs": [
        {
          "output_type": "stream",
          "name": "stdout",
          "text": [
            "Classification Report (Train):\n",
            "               precision    recall  f1-score   support\n",
            "\n",
            "           0       0.82      0.76      0.79        62\n",
            "           1       0.78      0.84      0.81        63\n",
            "\n",
            "    accuracy                           0.80       125\n",
            "   macro avg       0.80      0.80      0.80       125\n",
            "weighted avg       0.80      0.80      0.80       125\n",
            "\n",
            "Classification Report (Test):\n",
            "               precision    recall  f1-score   support\n",
            "\n",
            "           0       0.80      1.00      0.89         4\n",
            "           1       1.00      0.67      0.80         3\n",
            "\n",
            "    accuracy                           0.86         7\n",
            "   macro avg       0.90      0.83      0.84         7\n",
            "weighted avg       0.89      0.86      0.85         7\n",
            "\n"
          ]
        }
      ]
    },
    {
      "cell_type": "code",
      "source": [
        "# Plot learning curves\n",
        "def plot_learning_curve(estimator, title, X, y, cv=None, n_jobs=-1, train_sizes=np.linspace(.1, 1.0, 5)):\n",
        "    plt.figure()\n",
        "    plt.title(title)\n",
        "    plt.xlabel(\"Training examples\")\n",
        "    plt.ylabel(\"Score\")\n",
        "\n",
        "    train_sizes, train_scores, test_scores = learning_curve(\n",
        "        estimator, X, y, cv=cv, n_jobs=n_jobs, train_sizes=train_sizes)\n",
        "    train_scores_mean = np.mean(train_scores, axis=1)\n",
        "    train_scores_std = np.std(train_scores, axis=1)\n",
        "    test_scores_mean = np.mean(test_scores, axis=1)\n",
        "    test_scores_std = np.std(test_scores, axis=1)\n",
        "\n",
        "    plt.grid()\n",
        "\n",
        "    plt.fill_between(train_sizes, train_scores_mean - train_scores_std,\n",
        "                     train_scores_mean + train_scores_std, alpha=0.1,\n",
        "                     color=\"r\")\n",
        "    plt.fill_between(train_sizes, test_scores_mean - test_scores_std,\n",
        "                     test_scores_mean + test_scores_std, alpha=0.1, color=\"g\")\n",
        "    plt.plot(train_sizes, train_scores_mean, 'o-', color=\"r\",\n",
        "             label=\"Training score\")\n",
        "    plt.plot(train_sizes, test_scores_mean, 'o-', color=\"g\",\n",
        "             label=\"Cross-validation score\")\n",
        "\n",
        "    plt.legend(loc=\"best\")\n",
        "    return plt\n",
        "\n",
        "# Plot the learning curve for the MLPClassifier\n",
        "title = \"Learning Curves (MLPClassifier)\"\n",
        "cv = None  # You can specify a cross-validation strategy here if needed\n",
        "plot_learning_curve(mlp_classifier, title, X_train, y_train, cv=cv)\n",
        "plt.show()\n"
      ],
      "metadata": {
        "id": "RqimvXifVJiX"
      },
      "execution_count": null,
      "outputs": []
    },
    {
      "cell_type": "code",
      "source": [
        "train_confusion_matrix = confusion_matrix(y_train, y_train_pred)\n",
        "test_confusion_matrix = confusion_matrix(y_test, y_test_pred)\n",
        "# Create ConfusionMatrixDisplay for train set\n",
        "disp_train = ConfusionMatrixDisplay(confusion_matrix=train_confusion_matrix, display_labels=[\"healthy\", \"ill\"])\n",
        "disp_train.plot(cmap='Blues', values_format='d')\n",
        "plt.title(\"Confusion Matrix (Train)\")\n",
        "plt.show()\n",
        "\n",
        "# Create ConfusionMatrixDisplay for test set\n",
        "disp_test = ConfusionMatrixDisplay(confusion_matrix=test_confusion_matrix, display_labels=[\"healthy\", \"ill\"])\n",
        "disp_test.plot(cmap='Blues', values_format='d')\n",
        "plt.title(\"Confusion Matrix (Test)\")\n",
        "plt.show()"
      ],
      "metadata": {
        "colab": {
          "base_uri": "https://localhost:8080/",
          "height": 927
        },
        "id": "isKFRW61VK4Z",
        "outputId": "52ecee54-4ad6-4666-b18c-b9520e258850"
      },
      "execution_count": null,
      "outputs": [
        {
          "output_type": "display_data",
          "data": {
            "text/plain": [
              "<Figure size 640x480 with 2 Axes>"
            ],
            "image/png": "[encoded data removed]"
          },
          "metadata": {}
        },
        {
          "output_type": "display_data",
          "data": {
            "text/plain": [
              "<Figure size 640x480 with 2 Axes>"
            ],
            "image/png": "[encoded data removed]"
          },
          "metadata": {}
        }
      ]
    },
    {
      "cell_type": "code",
      "source": [],
      "metadata": {
        "id": "w2Z1ZzZYT9dq"
      },
      "execution_count": null,
      "outputs": []
    }
  ]
}