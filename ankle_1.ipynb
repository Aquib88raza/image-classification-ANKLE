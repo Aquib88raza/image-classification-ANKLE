{
  "cells": [
    {
      "cell_type": "markdown",
      "metadata": {
        "id": "view-in-github",
        "colab_type": "text"
      },
      "source": [
        "<a href=\"https://colab.research.google.com/github/Aquib88raza/image-classification-ANKLE/blob/main/ankle_1.ipynb\" target=\"_parent\"><img src=\"https://colab.research.google.com/assets/colab-badge.svg\" alt=\"Open In Colab\"/></a>"
      ]
    },
    {
      "cell_type": "code",
      "execution_count": 27,
      "metadata": {
        "id": "8xkMokXjnpun"
      },
      "outputs": [],
      "source": [
        "# Project:\n",
        "\n",
        "# Tools: Python --version\n",
        "#        Scikit-learn - deep learning python library\n",
        "\n",
        "# README:\n",
        "\n",
        "# Dataset:\n",
        "\n",
        "# Usefull infos:\n",
        "# https://journals.plos.org/plosone/article?id=10.1371/journal.pone.0265949"
      ]
    },
    {
      "cell_type": "code",
      "execution_count": 28,
      "metadata": {
        "id": "_49LnzxsiGXI"
      },
      "outputs": [],
      "source": [
        "import os\n",
        "import random\n",
        "import numpy as np\n",
        "import cv2\n",
        "from sklearn.neighbors import KNeighborsClassifier\n",
        "from sklearn.svm import SVC\n",
        "from sklearn.naive_bayes import MultinomialNB\n",
        "from sklearn.tree import DecisionTreeClassifier\n",
        "from sklearn.ensemble import RandomForestClassifier\n",
        "from sklearn.model_selection import cross_val_score, GridSearchCV, StratifiedKFold, cross_val_predict\n",
        "from sklearn.metrics import accuracy_score, classification_report"
      ]
    },
    {
      "cell_type": "code",
      "execution_count": 29,
      "metadata": {
        "id": "I90HXpnOjcK_"
      },
      "outputs": [],
      "source": [
        "classifiers_names = [\n",
        "    \"KNeighborsClassifier\",\n",
        "    \"SVC\",\n",
        "    'MultinomialNB',\n",
        "    \"DecisionTreeClassifier\",\n",
        "    \"RandomForestClassifier\"\n",
        "]\n",
        "\n",
        "classifiers = [\n",
        "    KNeighborsClassifier(),\n",
        "    SVC(),\n",
        "    MultinomialNB(),\n",
        "    DecisionTreeClassifier(),\n",
        "    RandomForestClassifier()\n",
        "]\n",
        "\n",
        "parameters = [\n",
        "    {'n_neighbors': [3, 5, 7, 9, 11, 13]},  # KNeighborsClassifier\n",
        "    {'C': [1, 10, 50, 70, 100]}, #'gamma':['scale', 'auto'], 'kernel': ['linear', 'poly', 'rbf', 'sigmoid'], 'class_weight': [None, 'balanced']}, # SVC\n",
        "    {'alpha': [0.1, 0.5, 1.0]},  # MultinomialNB\n",
        "    {'max_depth': [None, 3, 5, 7, 10]},  # DecisionTreeClassifier\n",
        "    {'n_estimators': [50, 100, 200, 300, 500]}#, 'warm_start': [True, False], 'n_jobs':[None, 1, 2, 3]}  # RandomForestClassifier\n",
        "]\n",
        "\n",
        "best_models = []\n",
        "acc_cross = []\n",
        "var_cross = []"
      ]
    },
    {
      "cell_type": "code",
      "execution_count": 29,
      "metadata": {
        "id": "Y8IgWZ7_jyAw"
      },
      "outputs": [],
      "source": []
    },
    {
      "cell_type": "markdown",
      "metadata": {
        "id": "5RTVPUUnkDDC"
      },
      "source": [
        "# Importing images\n"
      ]
    },
    {
      "cell_type": "code",
      "execution_count": 30,
      "metadata": {
        "id": "OxXhT45ml6ON"
      },
      "outputs": [],
      "source": [
        "healthy_datset = []\n",
        "ill_datset = []\n",
        "dataset_images_names = []\n",
        "dataset_images = []\n",
        "dataset_labels = []\n",
        "\n",
        "# PATH to files\n",
        "normal_path = \"/content/DATACLEANED/NORMAL\"\n",
        "mild_path = \"/content/DATACLEANED/MILD\"\n",
        "ill_path = \"/content/DATACLEANED/ILL\""
      ]
    },
    {
      "cell_type": "code",
      "execution_count": 31,
      "metadata": {
        "id": "8ZkzDtTEuXj2"
      },
      "outputs": [],
      "source": [
        "# Reading - normal directory\n",
        "for files in os.listdir(normal_path):\n",
        "  if files.endswith(\".jpg\"):\n",
        "    files = normal_path + '/' + files\n",
        "    healthy_datset.append(files)\n",
        "    dataset_labels.append(\"0\")\n",
        "  else:\n",
        "    continue\n",
        "\n",
        "#print(healthy_datset)\n",
        "#print()\n",
        "#print(len(healthy_datset))"
      ]
    },
    {
      "cell_type": "code",
      "execution_count": 32,
      "metadata": {
        "id": "1072ooVzoTFK"
      },
      "outputs": [],
      "source": [
        "# Reading - mid directory\n",
        "for files in os.listdir(mild_path):\n",
        "  if files.endswith(\".jpg\"):\n",
        "    files = mild_path + '/' + files\n",
        "    ill_datset.append(files)\n",
        "    dataset_labels.append(\"1\")\n",
        "  else:\n",
        "    continue\n",
        "\n",
        "#print(ill_datset)\n",
        "#print()\n",
        "#print(len(ill_datset))\n",
        "\n",
        "# Reading - ill directory\n",
        "for files in os.listdir(ill_path):\n",
        "  if files.endswith(\".jpg\"):\n",
        "    files = ill_path + '/' + files\n",
        "    ill_datset.append(files)\n",
        "    dataset_labels.append(\"1\")\n",
        "  else:\n",
        "    continue\n",
        "\n",
        "#print(len(ill_datset))"
      ]
    },
    {
      "cell_type": "code",
      "execution_count": 33,
      "metadata": {
        "colab": {
          "base_uri": "https://localhost:8080/"
        },
        "id": "3w780Rn58zaZ",
        "outputId": "d3564b54-1490-4a10-9c38-2d670729dc19"
      },
      "outputs": [
        {
          "output_type": "stream",
          "name": "stdout",
          "text": [
            "152\n",
            "152\n"
          ]
        }
      ],
      "source": [
        "dataset_images_names = healthy_datset + ill_datset\n",
        "\n",
        "print(len(dataset_images_names))\n",
        "print(len(dataset_labels))"
      ]
    },
    {
      "cell_type": "code",
      "execution_count": 34,
      "metadata": {
        "id": "VuHFyu1s79Rd"
      },
      "outputs": [],
      "source": [
        "#Shuffeling:\n",
        "# Combine the arrays into pairs using zip\n",
        "# Display the shuffled arrays\n",
        "# print(\"Shuffled array1:\", dataset_images)\n",
        "# print(\"Shuffled array2:\", dataset_labels)\n",
        "combined_arrays = list(zip(dataset_images_names, dataset_labels))\n",
        "\n",
        "# Shuffle the pairs\n",
        "random.shuffle(combined_arrays)\n",
        "\n",
        "# Unzip the shuffled pairs back into separate arrays\n",
        "shuffled_array1, shuffled_array2 = zip(*combined_arrays)\n",
        "\n",
        "# Convert the result back to lists if needed\n",
        "shuffled_array1 = list(shuffled_array1)\n",
        "shuffled_array2 = list(shuffled_array2)\n",
        "\n",
        "dataset_images_names = np.array(shuffled_array1)\n",
        "dataset_labels = np.array(shuffled_array2)\n",
        "\n",
        "# Display the shuffled arrays\n",
        "# print(\"Shuffled array1:\", dataset_images)\n",
        "# print(\"Shuffled array2:\", dataset_labels)\n"
      ]
    },
    {
      "cell_type": "code",
      "execution_count": 35,
      "metadata": {
        "id": "24ocYKm62PHn"
      },
      "outputs": [],
      "source": [
        "#preprocesing maybe\n",
        "for file in dataset_images_names: #enumerate(dataset_images_names):\n",
        "  image = cv2.imread(file)\n",
        "\n",
        "  if image is not None and not image.size == 0:\n",
        "      size = (256, 256)\n",
        "      image = cv2.resize(image, size, interpolation=cv2.INTER_AREA)\n",
        "      #cv2.imshow('image', image)\n",
        "      #cv2.waitKey(0)\n",
        "      dataset_images.append(image)\n",
        "  else:\n",
        "      print(f\"Error loading or resizing image: {file}\")"
      ]
    },
    {
      "cell_type": "code",
      "execution_count": 36,
      "metadata": {
        "colab": {
          "base_uri": "https://localhost:8080/"
        },
        "id": "Ve2nlJ3-MblT",
        "outputId": "787df837-0440-445a-9adb-d269c90e619a"
      },
      "outputs": [
        {
          "output_type": "stream",
          "name": "stdout",
          "text": [
            "152\n"
          ]
        }
      ],
      "source": [
        "print(len(dataset_images))"
      ]
    },
    {
      "cell_type": "code",
      "execution_count": 37,
      "metadata": {
        "id": "IT8rJ6l6nFMa"
      },
      "outputs": [],
      "source": [
        "# @title Models parameters"
      ]
    },
    {
      "cell_type": "code",
      "execution_count": 38,
      "metadata": {
        "colab": {
          "base_uri": "https://localhost:8080/"
        },
        "id": "9CrajDMPogh3",
        "outputId": "e93ffdad-23cd-4bae-fc0d-309a5ce45304"
      },
      "outputs": [
        {
          "output_type": "stream",
          "name": "stdout",
          "text": [
            "KNeighborsClassifier -> {'cv': StratifiedKFold(n_splits=8, random_state=None, shuffle=False), 'error_score': nan, 'estimator__algorithm': 'auto', 'estimator__leaf_size': 30, 'estimator__metric': 'minkowski', 'estimator__metric_params': None, 'estimator__n_jobs': None, 'estimator__n_neighbors': 5, 'estimator__p': 2, 'estimator__weights': 'uniform', 'estimator': KNeighborsClassifier(), 'n_jobs': None, 'param_grid': {'n_neighbors': [3, 5, 7, 9, 11, 13]}, 'pre_dispatch': '2*n_jobs', 'refit': True, 'return_train_score': False, 'scoring': 'accuracy', 'verbose': 0}\n",
            "KNeighborsClassifier - Accuracy using cross-validation: 67.10526315789474 %\n",
            "KNeighborsClassifier - Variancy using cross-validation: 1.0214681440443214 %\n",
            "\n",
            "SVC -> {'cv': StratifiedKFold(n_splits=8, random_state=None, shuffle=False), 'error_score': nan, 'estimator__C': 1.0, 'estimator__break_ties': False, 'estimator__cache_size': 200, 'estimator__class_weight': None, 'estimator__coef0': 0.0, 'estimator__decision_function_shape': 'ovr', 'estimator__degree': 3, 'estimator__gamma': 'scale', 'estimator__kernel': 'rbf', 'estimator__max_iter': -1, 'estimator__probability': False, 'estimator__random_state': None, 'estimator__shrinking': True, 'estimator__tol': 0.001, 'estimator__verbose': False, 'estimator': SVC(), 'n_jobs': None, 'param_grid': {'C': [1, 10, 50, 70, 100]}, 'pre_dispatch': '2*n_jobs', 'refit': True, 'return_train_score': False, 'scoring': 'accuracy', 'verbose': 0}\n",
            "SVC - Accuracy using cross-validation: 63.1578947368421 %\n",
            "SVC - Variancy using cross-validation: 0.692520775623269 %\n",
            "\n",
            "MultinomialNB -> {'cv': StratifiedKFold(n_splits=8, random_state=None, shuffle=False), 'error_score': nan, 'estimator__alpha': 1.0, 'estimator__class_prior': None, 'estimator__fit_prior': True, 'estimator__force_alpha': 'warn', 'estimator': MultinomialNB(), 'n_jobs': None, 'param_grid': {'alpha': [0.1, 0.5, 1.0]}, 'pre_dispatch': '2*n_jobs', 'refit': True, 'return_train_score': False, 'scoring': 'accuracy', 'verbose': 0}\n",
            "MultinomialNB - Accuracy using cross-validation: 57.89473684210527 %\n",
            "MultinomialNB - Variancy using cross-validation: 0.9695290858725762 %\n",
            "\n",
            "DecisionTreeClassifier -> {'cv': StratifiedKFold(n_splits=8, random_state=None, shuffle=False), 'error_score': nan, 'estimator__ccp_alpha': 0.0, 'estimator__class_weight': None, 'estimator__criterion': 'gini', 'estimator__max_depth': None, 'estimator__max_features': None, 'estimator__max_leaf_nodes': None, 'estimator__min_impurity_decrease': 0.0, 'estimator__min_samples_leaf': 1, 'estimator__min_samples_split': 2, 'estimator__min_weight_fraction_leaf': 0.0, 'estimator__random_state': None, 'estimator__splitter': 'best', 'estimator': DecisionTreeClassifier(), 'n_jobs': None, 'param_grid': {'max_depth': [None, 3, 5, 7, 10]}, 'pre_dispatch': '2*n_jobs', 'refit': True, 'return_train_score': False, 'scoring': 'accuracy', 'verbose': 0}\n",
            "DecisionTreeClassifier - Accuracy using cross-validation: 64.47368421052632 %\n",
            "DecisionTreeClassifier - Variancy using cross-validation: 0.5367036011080332 %\n",
            "\n",
            "RandomForestClassifier -> {'cv': StratifiedKFold(n_splits=8, random_state=None, shuffle=False), 'error_score': nan, 'estimator__bootstrap': True, 'estimator__ccp_alpha': 0.0, 'estimator__class_weight': None, 'estimator__criterion': 'gini', 'estimator__max_depth': None, 'estimator__max_features': 'sqrt', 'estimator__max_leaf_nodes': None, 'estimator__max_samples': None, 'estimator__min_impurity_decrease': 0.0, 'estimator__min_samples_leaf': 1, 'estimator__min_samples_split': 2, 'estimator__min_weight_fraction_leaf': 0.0, 'estimator__n_estimators': 100, 'estimator__n_jobs': None, 'estimator__oob_score': False, 'estimator__random_state': None, 'estimator__verbose': 0, 'estimator__warm_start': False, 'estimator': RandomForestClassifier(), 'n_jobs': None, 'param_grid': {'n_estimators': [50, 100, 200, 300, 500]}, 'pre_dispatch': '2*n_jobs', 'refit': True, 'return_train_score': False, 'scoring': 'accuracy', 'verbose': 0}\n",
            "RandomForestClassifier - Accuracy using cross-validation: 65.78947368421052 %\n",
            "RandomForestClassifier - Variancy using cross-validation: 1.1080332409972298 %\n",
            "\n"
          ]
        }
      ],
      "source": [
        "for i in range(len(classifiers)):\n",
        "  #for i in range(1):\n",
        "  model = classifiers[i]\n",
        "  model_name = classifiers_names[i]\n",
        "  param_grid = parameters[i]\n",
        "\n",
        "  # Reshape images into 2-dimensional arrays\n",
        "  num_samples = len(dataset_images)\n",
        "  image_shape = dataset_images[0].shape\n",
        "  dataset_images_reshaped = np.reshape(dataset_images, (num_samples, -1))\n",
        "\n",
        "  best_model = GridSearchCV(model, param_grid, scoring='accuracy', cv=StratifiedKFold(n_splits=8))\n",
        "\n",
        "  best_model.fit(dataset_images_reshaped, dataset_labels)\n",
        "  best_models.append(best_model)\n",
        "\n",
        "  params = best_model.get_params()\n",
        "  print(f'{model_name} -> {params}')\n",
        "\n",
        "  cv_accuracy = cross_val_score(best_model.best_estimator_, dataset_images_reshaped, dataset_labels, scoring='accuracy', cv=StratifiedKFold(n_splits=8))\n",
        "  print(f'{model_name} - Accuracy using cross-validation: {cv_accuracy.mean()*100.0} %')\n",
        "  acc_cross.append(f'{model_name} : {cv_accuracy.mean()*100.0} %')\n",
        "  print(f'{model_name} - Variancy using cross-validation: {cv_accuracy.var()*100.0} %')\n",
        "  var_cross.append(f'{model_name} : {cv_accuracy.var()*100.0} %')\n",
        "  print()\n"
      ]
    },
    {
      "cell_type": "code",
      "execution_count": 39,
      "metadata": {
        "id": "-QYmglY7om5K"
      },
      "outputs": [],
      "source": [
        "# @title Cross-validation\n"
      ]
    },
    {
      "cell_type": "code",
      "execution_count": 39,
      "metadata": {
        "id": "I9NR3cPT4omu"
      },
      "outputs": [],
      "source": []
    },
    {
      "cell_type": "code",
      "execution_count": 40,
      "metadata": {
        "id": "EDClglmCpCpM"
      },
      "outputs": [],
      "source": [
        "# @title Scors and Outputs\n"
      ]
    },
    {
      "cell_type": "code",
      "execution_count": 41,
      "metadata": {
        "id": "_JdglmdxpTFY"
      },
      "outputs": [],
      "source": [
        "# Print accuracy using cross-validation\n",
        "#cv_accuracy = cross_val_score(grid_search.best_estimator_, X_train, Y_train, scoring='accuracy', cv=StratifiedKFold(n_splits=8))\n",
        "#print(f'{names[i]} - Accuracy using cross-validation: {cv_accuracy.mean()*100.0} %')\n",
        "#acc_cross.append(f'{names[i]} : {cv_accuracy.mean()*100.0} %')\n",
        "#print(f'{names[i]} - Variancy using cross-validation: {cv_accuracy.var()*100.0} %')\n",
        "#var_cross.append(f'{names[i]} : {cv_accuracy.var()*100.0} %')"
      ]
    },
    {
      "cell_type": "code",
      "execution_count": 42,
      "metadata": {
        "id": "y_1AkKBmpKod"
      },
      "outputs": [],
      "source": [
        "# @title Results"
      ]
    }
  ],
  "metadata": {
    "colab": {
      "provenance": [],
      "include_colab_link": true
    },
    "kernelspec": {
      "display_name": "Python 3",
      "name": "python3"
    },
    "language_info": {
      "name": "python"
    }
  },
  "nbformat": 4,
  "nbformat_minor": 0
}