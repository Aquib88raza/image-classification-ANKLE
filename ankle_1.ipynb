{
  "nbformat": 4,
  "nbformat_minor": 0,
  "metadata": {
    "colab": {
      "provenance": [],
      "include_colab_link": true
    },
    "kernelspec": {
      "name": "python3",
      "display_name": "Python 3"
    },
    "language_info": {
      "name": "python"
    }
  },
  "cells": [
    {
      "cell_type": "markdown",
      "metadata": {
        "id": "view-in-github",
        "colab_type": "text"
      },
      "source": [
        "<a href=\"https://colab.research.google.com/github/Aquib88raza/image-classification-ANKLE/blob/main/ankle_1.ipynb\" target=\"_parent\"><img src=\"https://colab.research.google.com/assets/colab-badge.svg\" alt=\"Open In Colab\"/></a>"
      ]
    },
    {
      "cell_type": "code",
      "source": [
        "# Project:\n",
        "\n",
        "# Tools: Python --version\n",
        "#        Scikit-learn - deep learning python library\n",
        "\n",
        "# README:\n",
        "\n",
        "# Dataset:\n",
        "\n",
        "# Usefull infos:\n",
        "# https://journals.plos.org/plosone/article?id=10.1371/journal.pone.0265949"
      ],
      "metadata": {
        "id": "8xkMokXjnpun"
      },
      "execution_count": null,
      "outputs": []
    },
    {
      "cell_type": "code",
      "source": [
        "import os\n",
        "import random\n",
        "#import sklearn\n",
        "#from sklearn.datasets import load_files\n",
        "from sklearn.neighbors import KNeighborsClassifier\n",
        "from sklearn.svm import SVC\n",
        "from sklearn.naive_bayes import MultinomialNB\n",
        "from sklearn.tree import DecisionTreeClassifier\n",
        "from sklearn.ensemble import RandomForestClassifier\n",
        "from sklearn.model_selection import cross_val_score, GridSearchCV, StratifiedKFold, cross_val_predict\n",
        "from sklearn.metrics import accuracy_score, classification_report"
      ],
      "metadata": {
        "id": "_49LnzxsiGXI"
      },
      "execution_count": null,
      "outputs": []
    },
    {
      "cell_type": "code",
      "source": [
        "classifiers_names = [\n",
        "    \"KNeighborsClassifier\",\n",
        "    \"SVC\",\n",
        "    'MultinomialNB',\n",
        "    \"DecisionTreeClassifier\",\n",
        "    \"RandomForestClassifier\"\n",
        "]\n",
        "\n",
        "classifiers = [\n",
        "    KNeighborsClassifier(),\n",
        "    SVC(),\n",
        "    MultinomialNB(),\n",
        "    DecisionTreeClassifier(),\n",
        "    RandomForestClassifier()\n",
        "]\n",
        "\n",
        "parameters = [\n",
        "    {'n_neighbors': [3, 5, 7, 9, 11, 13]},  # KNeighborsClassifier\n",
        "    {'C': [1, 10, 50, 70, 100], 'gamma':['scale', 'auto'], 'kernel': ['linear', 'poly', 'rbf', 'sigmoid'], 'class_weight': [None, 'balanced']}, # SVC\n",
        "    {'alpha': [0.1, 0.5, 1.0]},  # MultinomialNB\n",
        "    {'max_depth': [None, 3, 5, 7, 10]},  # DecisionTreeClassifier\n",
        "    {'n_estimators': [50, 100, 200, 300, 500], 'warm_start': [True, False], 'n_jobs':[None, 1, 2, 3]}  # RandomForestClassifier\n",
        "]"
      ],
      "metadata": {
        "id": "I90HXpnOjcK_"
      },
      "execution_count": null,
      "outputs": []
    },
    {
      "cell_type": "code",
      "source": [],
      "metadata": {
        "id": "Y8IgWZ7_jyAw"
      },
      "execution_count": null,
      "outputs": []
    },
    {
      "cell_type": "markdown",
      "source": [
        "# Importing images\n"
      ],
      "metadata": {
        "id": "5RTVPUUnkDDC"
      }
    },
    {
      "cell_type": "code",
      "source": [
        "healthy_datset = []\n",
        "ill_datset = []\n",
        "dataset_images = []\n",
        "dataset_labels = []\n",
        "\n",
        "# PATH to files\n",
        "normal_path = \"/content/sample_data/normal\"\n",
        "mild_path = \"/content/sample_data/mild\"\n",
        "ill_path = \"/content/sample_data/ill\""
      ],
      "metadata": {
        "id": "OxXhT45ml6ON"
      },
      "execution_count": null,
      "outputs": []
    },
    {
      "cell_type": "code",
      "source": [
        "# Reading - normal directory\n",
        "for files in os.listdir(normal_path):\n",
        "  if files.endswith(\".jpg\"):\n",
        "    healthy_datset.append(files)\n",
        "    dataset_labels.append(\"0\")\n",
        "  else:\n",
        "    continue\n",
        "\n",
        "print(healthy_datset)\n",
        "print()\n",
        "print(len(healthy_datset))"
      ],
      "metadata": {
        "id": "8ZkzDtTEuXj2",
        "outputId": "8e761bca-282c-4e51-9a57-8989a763c3fb",
        "colab": {
          "base_uri": "https://localhost:8080/"
        }
      },
      "execution_count": null,
      "outputs": [
        {
          "output_type": "stream",
          "name": "stdout",
          "text": [
            "['CCH-N-074-2-ankle-3.jpg', 'CCH-B-073-2-ankle-1.jpg', 'CCH-N-018-8-ankle-3.jpg', 'CCH-L-032-8-ankle-1.jpg', 'CCH-N-075-2-ankle-1.jpg', 'CCH-N-063-7-ankle-2.jpg', 'CCH-N-034-8-ankle-3.jpg', 'CCH-N-012-8-ankle-2.jpg', 'CCH-N-024-8-ankle-1.jpg', 'CCH-P-041-8-ankle-2.jpg', 'CCH-N-077-2-ankle-3.jpg', 'CCH-N-044-8- ankle-2.jpg', 'CCH-N-066-7- ankle-2.jpg', 'CCH-N-065-7-ankle-1.jpg', 'CCH-N-044-8- ankle-1.jpg', 'CCH-N-016-8-ankle-2.jpg', 'CCH-N-063-7-ankle-1.jpg', 'CCH-N-034-8-ankle-2.jpg', 'CCH-N023-8-ankle-3.jpg', 'CCH-N-077-2-ankle-2.jpg', 'CCH-L-032-8-ankle-3.jpg', 'CCH-N-016-8-ankle-1.jpg', 'CCH-N-027-8-ankle-1.jpg', 'CCH-N-012-8-ankle-4.jpg', 'CCH-N-074-2-ankle-1.jpg', 'CCH-B-073-2-ankle-2.jpg', 'CCH-N-029-8-ankle-1.jpg', 'CCH-N-044-8- ankle-3.jpg', 'CCH-N-066-7- ankle-1.jpg', 'CCH-N-054-8 ankle-4.jpg', 'CCH-N-026-8-ankle-2.jpg', 'CCH-P-041-8-ankle-1.jpg', 'CCH-N-065-7-ankle-2.jpg', 'CCH-N-027-8-ankle-2.jpg', 'CCH-N-033-8-ankle-2.jpg', 'CCH-N-033-8-ankle-4.jpg', 'CCH-N-004-8-ankle-1.jpg', 'CCH-N-026-8-ankle-1.jpg', 'CCH-N-065-7-ankle-3.jpg', 'CCH-N-018-8-ankle-2.jpg', 'CCH-N-033-8-ankle-1.jpg', 'CCH-N-029-8-ankle-2.jpg', 'CCH-N-024-8-ankle-2.jpg', 'CCH-L-032-8-ankle-2.jpg', 'CCH-N-054-8 ankle-1.jpg', 'CCH-P-035-8-ankle-2.jpg', 'CCH-M-014-8-ankle.jpg', 'CCH-N-004-8-ankle-2.jpg', 'CCH-N-018-8-ankle-1.jpg', 'CCH-N-009-8-ankle.jpg', 'CCH-N-026-8-ankle-4.jpg', 'CCH-N-027-8-ankle-3.jpg', 'CCH-N023-8-ankle-1.jpg', 'CCH-N-037-8-ankle-2.jpg', 'CCH-N-012-8-ankle-3.jpg', 'CCH-N-033-8-ankle-3.jpg', 'CCH-N-043-8-ankle-2.jpg', 'CCH-N-077-2-ankle-1.jpg', 'CCH-N-025-8-ankle.jpg', 'CCH-N-054-8 ankle-2.jpg', 'CCH-N-074-2-ankle-2.jpg', 'CCH-N-012-8-ankle-1.jpg', 'CCH-N-034-8-ankle-1.jpg', 'CCH-N023-8-ankle-2.jpg', 'CCH-N-075-2-ankle-2.jpg', 'CCH-P-035-8-ankle-1.jpg', 'CCH-N-037-8-ankle-1.jpg', 'CCH-N-077-2-ankle-4.jpg', 'CCH-N-043-8-ankle-1.jpg', 'CCH-N-026-8-ankle-3.jpg', 'CCH-N-054-8 ankle-3.jpg']\n",
            "\n",
            "71\n"
          ]
        }
      ]
    },
    {
      "cell_type": "code",
      "source": [
        "# Reading - mid directory\n",
        "for files in os.listdir(mild_path):\n",
        "  if files.endswith(\".jpg\"):\n",
        "    ill_datset.append(files)\n",
        "    dataset_labels.append(\"1\")\n",
        "  else:\n",
        "    continue\n",
        "\n",
        "print(ill_datset)\n",
        "print()\n",
        "print(len(ill_datset))\n",
        "\n",
        "# Reading - ill directory\n",
        "for files in os.listdir(ill_path):\n",
        "  if files.endswith(\".jpg\"):\n",
        "    ill_datset.append(files)\n",
        "    dataset_labels.append(\"1\")\n",
        "  else:\n",
        "    continue\n",
        "\n",
        "print(len(ill_datset))"
      ],
      "metadata": {
        "id": "1072ooVzoTFK",
        "outputId": "50f99d54-fbf4-48af-db44-c3f19120695e",
        "colab": {
          "base_uri": "https://localhost:8080/"
        }
      },
      "execution_count": null,
      "outputs": [
        {
          "output_type": "stream",
          "name": "stdout",
          "text": [
            "['CCH-M-049-8-ankle-2.jpg', 'CCH-K-015-8-ankle.jpg', 'CCH-E-019-8-ankle-2.jpg', 'CCH-N-057-8-ankle-1.jpg', 'CCH-E-019-8-ankle-1.jpg', 'CCH-L-048-8-ankle-1.jpg', 'CCH-N-036-8-ankle-1.jpg', 'CCH-059-7-ankle-2.jpg', 'CCH-N-048-8-ankle-2.jpg', 'CCH-N-028-8-ankle-2.jpg', 'CCH-N-028-8-ankle-1.jpg', 'CCH-N-036-8-ankle-2.jpg', 'CCH-N-028-8-ankle-3.jpg', 'CCH-L-048-8-ankle-2.jpg', 'CCH-E-019-8-ankle-3.jpg', 'CCH-M-049-8-ankle-1.jpg', 'CCH-059-7-ankle-1.jpg', 'CCH-N-048-8-ankle-1.jpg', 'CCH-R-022-8-ankle-1.jpg', 'CCH-N-057-8-ankle-2.jpg', 'CCH-N-028-8-ankle-4.jpg', 'CCH-R-022-8-ankle-2.jpg']\n",
            "\n",
            "22\n",
            "42\n"
          ]
        }
      ]
    },
    {
      "cell_type": "code",
      "source": [
        "dataset_images = healthy_datset + ill_datset\n",
        "\n",
        "print(len(dataset_images))\n",
        "print(len(dataset_labels))"
      ],
      "metadata": {
        "id": "3w780Rn58zaZ",
        "outputId": "bab73a8a-d30f-4492-c389-89a608354cfc",
        "colab": {
          "base_uri": "https://localhost:8080/"
        }
      },
      "execution_count": null,
      "outputs": [
        {
          "output_type": "stream",
          "name": "stdout",
          "text": [
            "113\n",
            "113\n"
          ]
        }
      ]
    },
    {
      "cell_type": "code",
      "source": [
        "#Shuffeling:\n",
        "# Combine the arrays into pairs using zip\n",
        "# Display the shuffled arrays\n",
        "# print(\"Shuffled array1:\", dataset_images)\n",
        "# print(\"Shuffled array2:\", dataset_labels)\n",
        "combined_arrays = list(zip(dataset_images, dataset_labels))\n",
        "\n",
        "# Shuffle the pairs\n",
        "random.shuffle(combined_arrays)\n",
        "\n",
        "# Unzip the shuffled pairs back into separate arrays\n",
        "shuffled_array1, shuffled_array2 = zip(*combined_arrays)\n",
        "\n",
        "# Convert the result back to lists if needed\n",
        "shuffled_array1 = list(shuffled_array1)\n",
        "shuffled_array2 = list(shuffled_array2)\n",
        "\n",
        "dataset_images = shuffled_array1\n",
        "dataset_labels = shuffled_array2\n",
        "\n",
        "# Display the shuffled arrays\n",
        "# print(\"Shuffled array1:\", dataset_images)\n",
        "# print(\"Shuffled array2:\", dataset_labels)\n"
      ],
      "metadata": {
        "colab": {
          "base_uri": "https://localhost:8080/"
        },
        "id": "VuHFyu1s79Rd",
        "outputId": "daef646a-0837-4fd4-a5ae-0e8587d58b50"
      },
      "execution_count": null,
      "outputs": [
        {
          "output_type": "stream",
          "name": "stdout",
          "text": [
            "Shuffled array1: ['CCH-N-074-2-ankle-3.jpg', 'CCH-B-073-2-ankle-1.jpg', 'CCH-N-018-8-ankle-3.jpg', 'CCH-L-032-8-ankle-1.jpg', 'CCH-N-075-2-ankle-1.jpg', 'CCH-N-063-7-ankle-2.jpg', 'CCH-N-034-8-ankle-3.jpg', 'CCH-N-012-8-ankle-2.jpg', 'CCH-N-024-8-ankle-1.jpg', 'CCH-P-041-8-ankle-2.jpg', 'CCH-N-077-2-ankle-3.jpg', 'CCH-N-044-8- ankle-2.jpg', 'CCH-N-066-7- ankle-2.jpg', 'CCH-N-065-7-ankle-1.jpg', 'CCH-N-044-8- ankle-1.jpg', 'CCH-N-016-8-ankle-2.jpg', 'CCH-N-063-7-ankle-1.jpg', 'CCH-N-034-8-ankle-2.jpg', 'CCH-N023-8-ankle-3.jpg', 'CCH-N-077-2-ankle-2.jpg', 'CCH-L-032-8-ankle-3.jpg', 'CCH-N-016-8-ankle-1.jpg', 'CCH-N-027-8-ankle-1.jpg', 'CCH-N-012-8-ankle-4.jpg', 'CCH-N-074-2-ankle-1.jpg', 'CCH-B-073-2-ankle-2.jpg', 'CCH-N-029-8-ankle-1.jpg', 'CCH-N-044-8- ankle-3.jpg', 'CCH-N-066-7- ankle-1.jpg', 'CCH-N-054-8 ankle-4.jpg', 'CCH-N-026-8-ankle-2.jpg', 'CCH-P-041-8-ankle-1.jpg', 'CCH-N-065-7-ankle-2.jpg', 'CCH-N-027-8-ankle-2.jpg', 'CCH-N-033-8-ankle-2.jpg', 'CCH-N-033-8-ankle-4.jpg', 'CCH-N-004-8-ankle-1.jpg', 'CCH-N-026-8-ankle-1.jpg', 'CCH-N-065-7-ankle-3.jpg', 'CCH-N-018-8-ankle-2.jpg', 'CCH-N-033-8-ankle-1.jpg', 'CCH-N-029-8-ankle-2.jpg', 'CCH-N-024-8-ankle-2.jpg', 'CCH-L-032-8-ankle-2.jpg', 'CCH-N-054-8 ankle-1.jpg', 'CCH-P-035-8-ankle-2.jpg', 'CCH-M-014-8-ankle.jpg', 'CCH-N-004-8-ankle-2.jpg', 'CCH-N-018-8-ankle-1.jpg', 'CCH-N-009-8-ankle.jpg', 'CCH-N-026-8-ankle-4.jpg', 'CCH-N-027-8-ankle-3.jpg', 'CCH-N023-8-ankle-1.jpg', 'CCH-N-037-8-ankle-2.jpg', 'CCH-N-012-8-ankle-3.jpg', 'CCH-N-033-8-ankle-3.jpg', 'CCH-N-043-8-ankle-2.jpg', 'CCH-N-077-2-ankle-1.jpg', 'CCH-N-025-8-ankle.jpg', 'CCH-N-054-8 ankle-2.jpg', 'CCH-N-074-2-ankle-2.jpg', 'CCH-N-012-8-ankle-1.jpg', 'CCH-N-034-8-ankle-1.jpg', 'CCH-N023-8-ankle-2.jpg', 'CCH-N-075-2-ankle-2.jpg', 'CCH-P-035-8-ankle-1.jpg', 'CCH-N-037-8-ankle-1.jpg', 'CCH-N-077-2-ankle-4.jpg', 'CCH-N-043-8-ankle-1.jpg', 'CCH-N-026-8-ankle-3.jpg', 'CCH-N-054-8 ankle-3.jpg', 'CCH-M-049-8-ankle-2.jpg', 'CCH-K-015-8-ankle.jpg', 'CCH-E-019-8-ankle-2.jpg', 'CCH-N-057-8-ankle-1.jpg', 'CCH-E-019-8-ankle-1.jpg', 'CCH-L-048-8-ankle-1.jpg', 'CCH-N-036-8-ankle-1.jpg', 'CCH-059-7-ankle-2.jpg', 'CCH-N-048-8-ankle-2.jpg', 'CCH-N-028-8-ankle-2.jpg', 'CCH-N-028-8-ankle-1.jpg', 'CCH-N-036-8-ankle-2.jpg', 'CCH-N-028-8-ankle-3.jpg', 'CCH-L-048-8-ankle-2.jpg', 'CCH-E-019-8-ankle-3.jpg', 'CCH-M-049-8-ankle-1.jpg', 'CCH-059-7-ankle-1.jpg', 'CCH-N-048-8-ankle-1.jpg', 'CCH-R-022-8-ankle-1.jpg', 'CCH-N-057-8-ankle-2.jpg', 'CCH-N-028-8-ankle-4.jpg', 'CCH-R-022-8-ankle-2.jpg', 'CCH-N-052-8-ankle-1.jpg', 'CCH-N-006-8-ankle-3.jpg', 'CCH-N-056-8-ankle-3.jpg', 'CCH-N-052-8-ankle-3.jpg', 'CCH-J-055-8-ankle-2.jpg', 'CCH-J-055-8-ankle-1.jpg', 'CCH-N-006-8-ankle-2.jpg', 'CCH-N-006-8-ankle-1.jpg', 'CCH-L-067-7-ankle-2.jpg', 'CCH-058-7-ankle-3.jpg', 'CCH-N-056-8-ankle-2.jpg', 'CCH-N-052-8-ankle-2.jpg', 'CCH-N-056-8-ankle-1.jpg', 'CCH-N-046-8-ankle-2.jpg', 'CCH-058-7-ankle-1.jpg', 'CCH-058-7-ankle-2.jpg', 'CCH-058-7-ankle-4.jpg', 'CCH-L-067-7-ankle-1.jpg', 'CCH-N-046-8-ankle-1.jpg', 'CCH-N-006-8-ankle-4.jpg']\n",
            "Shuffled array2: ['0', '0', '0', '0', '0', '0', '0', '0', '0', '0', '0', '0', '0', '0', '0', '0', '0', '0', '0', '0', '0', '0', '0', '0', '0', '0', '0', '0', '0', '0', '0', '0', '0', '0', '0', '0', '0', '0', '0', '0', '0', '0', '0', '0', '0', '0', '0', '0', '0', '0', '0', '0', '0', '0', '0', '0', '0', '0', '0', '0', '0', '0', '0', '0', '0', '0', '0', '0', '0', '0', '0', '1', '1', '1', '1', '1', '1', '1', '1', '1', '1', '1', '1', '1', '1', '1', '1', '1', '1', '1', '1', '1', '1', '1', '1', '1', '1', '1', '1', '1', '1', '1', '1', '1', '1', '1', '1', '1', '1', '1', '1', '1', '1']\n",
            "Shuffled array1: ['CCH-N-012-8-ankle-1.jpg', 'CCH-L-032-8-ankle-3.jpg', 'CCH-N-004-8-ankle-2.jpg', 'CCH-N-029-8-ankle-2.jpg', 'CCH-N-054-8 ankle-3.jpg', 'CCH-N-016-8-ankle-1.jpg', 'CCH-N-012-8-ankle-2.jpg', 'CCH-N-046-8-ankle-1.jpg', 'CCH-N-033-8-ankle-3.jpg', 'CCH-058-7-ankle-1.jpg', 'CCH-N-012-8-ankle-3.jpg', 'CCH-P-035-8-ankle-2.jpg', 'CCH-N-027-8-ankle-3.jpg', 'CCH-N-006-8-ankle-1.jpg', 'CCH-N-065-7-ankle-1.jpg', 'CCH-N-028-8-ankle-4.jpg', 'CCH-P-041-8-ankle-2.jpg', 'CCH-E-019-8-ankle-1.jpg', 'CCH-N-057-8-ankle-2.jpg', 'CCH-L-032-8-ankle-1.jpg', 'CCH-N-043-8-ankle-1.jpg', 'CCH-N-074-2-ankle-1.jpg', 'CCH-N-016-8-ankle-2.jpg', 'CCH-N-029-8-ankle-1.jpg', 'CCH-N-026-8-ankle-1.jpg', 'CCH-N-028-8-ankle-3.jpg', 'CCH-N-052-8-ankle-2.jpg', 'CCH-N-028-8-ankle-1.jpg', 'CCH-R-022-8-ankle-1.jpg', 'CCH-P-041-8-ankle-1.jpg', 'CCH-N-065-7-ankle-2.jpg', 'CCH-N-054-8 ankle-1.jpg', 'CCH-N-046-8-ankle-2.jpg', 'CCH-L-048-8-ankle-1.jpg', 'CCH-N-024-8-ankle-2.jpg', 'CCH-N-034-8-ankle-2.jpg', 'CCH-N-028-8-ankle-2.jpg', 'CCH-N-044-8- ankle-2.jpg', 'CCH-N-027-8-ankle-2.jpg', 'CCH-N-044-8- ankle-3.jpg', 'CCH-N-056-8-ankle-3.jpg', 'CCH-N-033-8-ankle-4.jpg', 'CCH-N-024-8-ankle-1.jpg', 'CCH-N-074-2-ankle-3.jpg', 'CCH-N-026-8-ankle-3.jpg', 'CCH-N-054-8 ankle-2.jpg', 'CCH-N023-8-ankle-1.jpg', 'CCH-N-066-7- ankle-1.jpg', 'CCH-N-075-2-ankle-2.jpg', 'CCH-N-075-2-ankle-1.jpg', 'CCH-N-009-8-ankle.jpg', 'CCH-B-073-2-ankle-2.jpg', 'CCH-M-014-8-ankle.jpg', 'CCH-K-015-8-ankle.jpg', 'CCH-P-035-8-ankle-1.jpg', 'CCH-N-052-8-ankle-1.jpg', 'CCH-N-012-8-ankle-4.jpg', 'CCH-N-036-8-ankle-1.jpg', 'CCH-M-049-8-ankle-1.jpg', 'CCH-N023-8-ankle-2.jpg', 'CCH-N-056-8-ankle-1.jpg', 'CCH-N-034-8-ankle-3.jpg', 'CCH-N-037-8-ankle-2.jpg', 'CCH-059-7-ankle-2.jpg', 'CCH-N023-8-ankle-3.jpg', 'CCH-L-067-7-ankle-1.jpg', 'CCH-N-004-8-ankle-1.jpg', 'CCH-E-019-8-ankle-2.jpg', 'CCH-L-048-8-ankle-2.jpg', 'CCH-N-077-2-ankle-3.jpg', 'CCH-N-006-8-ankle-4.jpg', 'CCH-058-7-ankle-3.jpg', 'CCH-N-006-8-ankle-2.jpg', 'CCH-N-044-8- ankle-1.jpg', 'CCH-N-018-8-ankle-1.jpg', 'CCH-N-033-8-ankle-1.jpg', 'CCH-N-063-7-ankle-1.jpg', 'CCH-N-048-8-ankle-2.jpg', 'CCH-J-055-8-ankle-1.jpg', 'CCH-N-052-8-ankle-3.jpg', 'CCH-N-077-2-ankle-2.jpg', 'CCH-N-026-8-ankle-2.jpg', 'CCH-N-025-8-ankle.jpg', 'CCH-N-074-2-ankle-2.jpg', 'CCH-N-018-8-ankle-3.jpg', 'CCH-N-063-7-ankle-2.jpg', 'CCH-N-077-2-ankle-4.jpg', 'CCH-058-7-ankle-2.jpg', 'CCH-B-073-2-ankle-1.jpg', 'CCH-R-022-8-ankle-2.jpg', 'CCH-N-057-8-ankle-1.jpg', 'CCH-N-056-8-ankle-2.jpg', 'CCH-N-018-8-ankle-2.jpg', 'CCH-N-033-8-ankle-2.jpg', 'CCH-J-055-8-ankle-2.jpg', 'CCH-N-066-7- ankle-2.jpg', 'CCH-N-077-2-ankle-1.jpg', 'CCH-058-7-ankle-4.jpg', 'CCH-N-027-8-ankle-1.jpg', 'CCH-E-019-8-ankle-3.jpg', 'CCH-L-032-8-ankle-2.jpg', 'CCH-N-006-8-ankle-3.jpg', 'CCH-N-037-8-ankle-1.jpg', 'CCH-N-034-8-ankle-1.jpg', 'CCH-059-7-ankle-1.jpg', 'CCH-L-067-7-ankle-2.jpg', 'CCH-N-026-8-ankle-4.jpg', 'CCH-N-065-7-ankle-3.jpg', 'CCH-N-036-8-ankle-2.jpg', 'CCH-N-048-8-ankle-1.jpg', 'CCH-N-054-8 ankle-4.jpg', 'CCH-N-043-8-ankle-2.jpg', 'CCH-M-049-8-ankle-2.jpg']\n",
            "Shuffled array2: ['0', '0', '0', '0', '0', '0', '0', '1', '0', '1', '0', '0', '0', '1', '0', '1', '0', '1', '1', '0', '0', '0', '0', '0', '0', '1', '1', '1', '1', '0', '0', '0', '1', '1', '0', '0', '1', '0', '0', '0', '1', '0', '0', '0', '0', '0', '0', '0', '0', '0', '0', '0', '0', '1', '0', '1', '0', '1', '1', '0', '1', '0', '0', '1', '0', '1', '0', '1', '1', '0', '1', '1', '1', '0', '0', '0', '0', '1', '1', '1', '0', '0', '0', '0', '0', '0', '0', '1', '0', '1', '1', '1', '0', '0', '1', '0', '0', '1', '0', '1', '0', '1', '0', '0', '1', '1', '0', '0', '1', '1', '0', '0', '1']\n"
          ]
        }
      ]
    },
    {
      "cell_type": "code",
      "source": [
        "#preprocesing maybe"
      ],
      "metadata": {
        "id": "24ocYKm62PHn"
      },
      "execution_count": null,
      "outputs": []
    },
    {
      "cell_type": "code",
      "source": [
        "# @title Models parameters"
      ],
      "metadata": {
        "id": "IT8rJ6l6nFMa"
      },
      "execution_count": null,
      "outputs": []
    },
    {
      "cell_type": "code",
      "source": [
        "for i in range(len(classifiers)):\n",
        "  model = classifiers[i]\n",
        "  model_name = classifiers_names[i]\n",
        "  param_grid = parameters[i]\n",
        "  grid_search = GridSearchCV(model, param_grid, scoring='accuracy', cv=StratifiedKFold(n_splits=8))\n",
        "\n",
        "  params = model.get_params()\n",
        "  print(f'{model_name} -> {params}')\n",
        "  print()"
      ],
      "metadata": {
        "id": "9CrajDMPogh3",
        "outputId": "7d746e42-9101-4a02-c3ae-66908c538c3b",
        "colab": {
          "base_uri": "https://localhost:8080/"
        }
      },
      "execution_count": null,
      "outputs": [
        {
          "output_type": "stream",
          "name": "stdout",
          "text": [
            "KNeighborsClassifier -> {'algorithm': 'auto', 'leaf_size': 30, 'metric': 'minkowski', 'metric_params': None, 'n_jobs': None, 'n_neighbors': 5, 'p': 2, 'weights': 'uniform'}\n",
            "\n",
            "SVC -> {'C': 1.0, 'break_ties': False, 'cache_size': 200, 'class_weight': None, 'coef0': 0.0, 'decision_function_shape': 'ovr', 'degree': 3, 'gamma': 'scale', 'kernel': 'rbf', 'max_iter': -1, 'probability': False, 'random_state': None, 'shrinking': True, 'tol': 0.001, 'verbose': False}\n",
            "\n",
            "MultinomialNB -> {'alpha': 1.0, 'class_prior': None, 'fit_prior': True, 'force_alpha': 'warn'}\n",
            "\n",
            "DecisionTreeClassifier -> {'ccp_alpha': 0.0, 'class_weight': None, 'criterion': 'gini', 'max_depth': None, 'max_features': None, 'max_leaf_nodes': None, 'min_impurity_decrease': 0.0, 'min_samples_leaf': 1, 'min_samples_split': 2, 'min_weight_fraction_leaf': 0.0, 'random_state': None, 'splitter': 'best'}\n",
            "\n",
            "RandomForestClassifier -> {'bootstrap': True, 'ccp_alpha': 0.0, 'class_weight': None, 'criterion': 'gini', 'max_depth': None, 'max_features': 'sqrt', 'max_leaf_nodes': None, 'max_samples': None, 'min_impurity_decrease': 0.0, 'min_samples_leaf': 1, 'min_samples_split': 2, 'min_weight_fraction_leaf': 0.0, 'n_estimators': 100, 'n_jobs': None, 'oob_score': False, 'random_state': None, 'verbose': 0, 'warm_start': False}\n",
            "\n"
          ]
        }
      ]
    },
    {
      "cell_type": "code",
      "source": [
        "# @title Cross-validation\n"
      ],
      "metadata": {
        "id": "-QYmglY7om5K"
      },
      "execution_count": null,
      "outputs": []
    },
    {
      "cell_type": "code",
      "source": [
        "#grid_search.fit(X_train, Y_train)"
      ],
      "metadata": {
        "id": "I9NR3cPT4omu"
      },
      "execution_count": null,
      "outputs": []
    },
    {
      "cell_type": "code",
      "source": [
        "# @title Scors and Outputs\n"
      ],
      "metadata": {
        "id": "EDClglmCpCpM"
      },
      "execution_count": null,
      "outputs": []
    },
    {
      "cell_type": "code",
      "source": [
        "# Print accuracy using cross-validation\n",
        "#cv_accuracy = cross_val_score(grid_search.best_estimator_, X_train, Y_train, scoring='accuracy', cv=StratifiedKFold(n_splits=8))\n",
        "#print(f'{names[i]} - Accuracy using cross-validation: {cv_accuracy.mean()*100.0} %')\n",
        "#acc_cross.append(f'{names[i]} : {cv_accuracy.mean()*100.0} %')\n",
        "#print(f'{names[i]} - Variancy using cross-validation: {cv_accuracy.var()*100.0} %')\n",
        "#var_cross.append(f'{names[i]} : {cv_accuracy.var()*100.0} %')"
      ],
      "metadata": {
        "id": "_JdglmdxpTFY"
      },
      "execution_count": null,
      "outputs": []
    },
    {
      "cell_type": "code",
      "source": [
        "# @title Results"
      ],
      "metadata": {
        "id": "y_1AkKBmpKod"
      },
      "execution_count": null,
      "outputs": []
    }
  ]
}